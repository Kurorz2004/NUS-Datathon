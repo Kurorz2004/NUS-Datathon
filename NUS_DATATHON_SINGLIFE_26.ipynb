{
  "cells": [
    {
      "cell_type": "markdown",
      "metadata": {
        "id": "view-in-github",
        "colab_type": "text"
      },
      "source": [
        "<a href=\"https://colab.research.google.com/github/Kurorz2004/NUS-Datathon/blob/main/NUS_DATATHON_SINGLIFE_26.ipynb\" target=\"_parent\"><img src=\"https://colab.research.google.com/assets/colab-badge.svg\" alt=\"Open In Colab\"/></a>"
      ]
    },
    {
      "cell_type": "markdown",
      "metadata": {
        "id": "Rht4MU6Rrign"
      },
      "source": [
        "# Datathon 2024: Category A (Champions) Workshop"
      ]
    },
    {
      "cell_type": "markdown",
      "source": [
        "# 1 Preparing data\n",
        "\n",
        "A model needs data to be trained for predictions. But there are steps needed to ensure that the data is cleaned and ready for a model - if the data is wrongly formatted or missing, the model will not work as intended.\n",
        "\n",
        "The steps below will help you get started should you be new to the concept."
      ],
      "metadata": {
        "id": "dvnVKGNCtjd3"
      }
    },
    {
      "cell_type": "markdown",
      "metadata": {
        "id": "_X8Kj85vrigo"
      },
      "source": [
        "## 1.1 Preparing Data"
      ]
    },
    {
      "cell_type": "markdown",
      "source": [
        "To use colab environment, we need to mount Google Drive to Colab. Ensure you have dataset saved in or a shortcut to it created in 'My Drive', on your google drive. Use the cell below to open dataset on Google Colab."
      ],
      "metadata": {
        "id": "LG9O4e77r2Gx"
      }
    },
    {
      "cell_type": "code",
      "source": [
        "%pip install catboost"
      ],
      "metadata": {
        "id": "ILM-hq9EaIQr",
        "colab": {
          "base_uri": "https://localhost:8080/"
        },
        "outputId": "d7eae4e4-23e3-42be-cd67-d3ee46e755e1"
      },
      "execution_count": null,
      "outputs": [
        {
          "output_type": "stream",
          "name": "stdout",
          "text": [
            "Collecting catboost\n",
            "  Downloading catboost-1.2.2-cp310-cp310-manylinux2014_x86_64.whl (98.7 MB)\n",
            "\u001b[2K     \u001b[90m━━━━━━━━━━━━━━━━━━━━━━━━━━━━━━━━━━━━━━━━\u001b[0m \u001b[32m98.7/98.7 MB\u001b[0m \u001b[31m6.8 MB/s\u001b[0m eta \u001b[36m0:00:00\u001b[0m\n",
            "\u001b[?25hRequirement already satisfied: graphviz in /usr/local/lib/python3.10/dist-packages (from catboost) (0.20.1)\n",
            "Requirement already satisfied: matplotlib in /usr/local/lib/python3.10/dist-packages (from catboost) (3.7.1)\n",
            "Requirement already satisfied: numpy>=1.16.0 in /usr/local/lib/python3.10/dist-packages (from catboost) (1.23.5)\n",
            "Requirement already satisfied: pandas>=0.24 in /usr/local/lib/python3.10/dist-packages (from catboost) (1.5.3)\n",
            "Requirement already satisfied: scipy in /usr/local/lib/python3.10/dist-packages (from catboost) (1.11.4)\n",
            "Requirement already satisfied: plotly in /usr/local/lib/python3.10/dist-packages (from catboost) (5.15.0)\n",
            "Requirement already satisfied: six in /usr/local/lib/python3.10/dist-packages (from catboost) (1.16.0)\n",
            "Requirement already satisfied: python-dateutil>=2.8.1 in /usr/local/lib/python3.10/dist-packages (from pandas>=0.24->catboost) (2.8.2)\n",
            "Requirement already satisfied: pytz>=2020.1 in /usr/local/lib/python3.10/dist-packages (from pandas>=0.24->catboost) (2023.3.post1)\n",
            "Requirement already satisfied: contourpy>=1.0.1 in /usr/local/lib/python3.10/dist-packages (from matplotlib->catboost) (1.2.0)\n",
            "Requirement already satisfied: cycler>=0.10 in /usr/local/lib/python3.10/dist-packages (from matplotlib->catboost) (0.12.1)\n",
            "Requirement already satisfied: fonttools>=4.22.0 in /usr/local/lib/python3.10/dist-packages (from matplotlib->catboost) (4.47.2)\n",
            "Requirement already satisfied: kiwisolver>=1.0.1 in /usr/local/lib/python3.10/dist-packages (from matplotlib->catboost) (1.4.5)\n",
            "Requirement already satisfied: packaging>=20.0 in /usr/local/lib/python3.10/dist-packages (from matplotlib->catboost) (23.2)\n",
            "Requirement already satisfied: pillow>=6.2.0 in /usr/local/lib/python3.10/dist-packages (from matplotlib->catboost) (9.4.0)\n",
            "Requirement already satisfied: pyparsing>=2.3.1 in /usr/local/lib/python3.10/dist-packages (from matplotlib->catboost) (3.1.1)\n",
            "Requirement already satisfied: tenacity>=6.2.0 in /usr/local/lib/python3.10/dist-packages (from plotly->catboost) (8.2.3)\n",
            "Installing collected packages: catboost\n",
            "Successfully installed catboost-1.2.2\n"
          ]
        }
      ]
    },
    {
      "cell_type": "code",
      "source": [
        "import numpy as np\n",
        "import pandas as pd\n",
        "pd.set_option('display.max_columns', None)\n",
        "pd.set_option('display.float_format', '{:.3f}'.format)\n",
        "\n",
        "import matplotlib.pyplot as plt\n",
        "from matplotlib.colors import LogNorm\n",
        "import seaborn as sns\n",
        "\n",
        "from sklearn.preprocessing import OneHotEncoder\n",
        "from sklearn.model_selection import train_test_split, KFold, cross_val_score\n",
        "from sklearn.metrics import r2_score\n",
        "\n",
        "from catboost import CatBoostRegressor\n",
        "\n",
        "from google.colab import drive\n",
        "\n",
        "drive.mount('/content/drive')\n",
        "\n",
        "SEED = 42"
      ],
      "metadata": {
        "id": "hUFNeHler8gd",
        "colab": {
          "base_uri": "https://localhost:8080/"
        },
        "outputId": "8dbe4bfd-5595-4bb9-ec69-c810ee9f58ff"
      },
      "execution_count": null,
      "outputs": [
        {
          "output_type": "stream",
          "name": "stdout",
          "text": [
            "Mounted at /content/drive\n"
          ]
        }
      ]
    },
    {
      "cell_type": "code",
      "source": [
        "df = pd.read_csv('/content/drive/MyDrive/catA_train.csv')\n",
        "print(f'Shape of data: {df.shape}')\n",
        "df.head()"
      ],
      "metadata": {
        "id": "zodYWHsdLIHl",
        "colab": {
          "base_uri": "https://localhost:8080/",
          "height": 695
        },
        "outputId": "5145731a-734e-4b0c-a56e-81a006402278"
      },
      "execution_count": null,
      "outputs": [
        {
          "output_type": "stream",
          "name": "stdout",
          "text": [
            "Shape of data: (29182, 28)\n"
          ]
        },
        {
          "output_type": "execute_result",
          "data": {
            "text/plain": [
              "   LATITUDE  LONGITUDE        AccountID  \\\n",
              "0     1.285    103.844  LAKB2BID4559214   \n",
              "1     1.291    103.827  LAKB2BID7610849   \n",
              "2     1.300    103.858  LAKB2BID5461679   \n",
              "3     1.301    103.791  LAKB2BID5088529   \n",
              "4     1.299    103.859  LAKB2BID1268831   \n",
              "\n",
              "                                     Company  SIC Code  \\\n",
              "0  FRANK CONSULTING SERVICES PRIVATE LIMITED  7361.000   \n",
              "1       NEW DESERT ORCHID SHIPPING PTE. LTD.  4449.000   \n",
              "2                2MBAO BIOCELLBANK PTE. LTD.  6719.000   \n",
              "3                         NEWBLOOM PTE. LTD.  6719.000   \n",
              "4               ASIA GREEN CAPITAL PTE. LTD.  6719.000   \n",
              "\n",
              "                                            Industry  8-Digit SIC Code  \\\n",
              "0                                Employment Agencies      73610000.000   \n",
              "1  Water Transportation of Freight, Not Elsewhere...      44490000.000   \n",
              "2  Offices of Holding Companies, Not Elsewhere Cl...      67190000.000   \n",
              "3  Offices of Holding Companies, Not Elsewhere Cl...      67190000.000   \n",
              "4  Offices of Holding Companies, Not Elsewhere Cl...      67190000.000   \n",
              "\n",
              "           8-Digit SIC Description  Year Found Entity Type  \\\n",
              "0              Employment agencies    2020.000  Subsidiary   \n",
              "1  Water transportation of freight    2015.000  Subsidiary   \n",
              "2           Holding companies, nec    1993.000  Subsidiary   \n",
              "3           Holding companies, nec    2006.000  Subsidiary   \n",
              "4           Holding companies, nec    2006.000      Parent   \n",
              "\n",
              "                         Parent Company Parent Country Ownership Type  \\\n",
              "0  FRANK RECRUITMENT GROUP PRIVATE LTD.      Singapore        Private   \n",
              "1          FORTITUDE SHIPPING PTE. LTD.      Singapore        Private   \n",
              "2   MADISON LIGHTERS AND WATCHES CO LTD  Hong Kong SAR        Private   \n",
              "3          WILMAR INTERNATIONAL LIMITED      Singapore        Private   \n",
              "4          ASIA GREEN CAPITAL PTE. LTD.      Singapore        Private   \n",
              "\n",
              "                                 Company Description  Square Footage  \\\n",
              "0  Frank Consulting Services Private Limited is p...             NaN   \n",
              "1  New Desert Orchid Shipping Pte. Ltd. is primar...             NaN   \n",
              "2  2Mbao Biocellbank Pte. Ltd. is primarily engag...             NaN   \n",
              "3  Newbloom Pte. Ltd. is primarily engaged in hol...             NaN   \n",
              "4  Asia Green Capital Pte. Ltd. is primarily enga...             NaN   \n",
              "\n",
              "  Company Status (Active/Inactive)  Employees (Single Site)  \\\n",
              "0                           Active                   15.000   \n",
              "1                           Active                   39.000   \n",
              "2                           Active                    4.000   \n",
              "3                           Active                   10.000   \n",
              "4                           Active                      NaN   \n",
              "\n",
              "   Employees (Domestic Ultimate Total)  Employees (Global Ultimate Total)  \\\n",
              "0                               25.000                                NaN   \n",
              "1                              100.000                            100.000   \n",
              "2                                4.000                              4.000   \n",
              "3                              100.000                            100.000   \n",
              "4                                4.000                              4.000   \n",
              "\n",
              "   Sales (Domestic Ultimate Total USD)  Sales (Global Ultimate Total USD)  \\\n",
              "0                          2209224.000                        4637871.000   \n",
              "1                       7093536000.000                     7093536000.000   \n",
              "2                          1026308.000                        1026308.000   \n",
              "3                      73398976000.000                    73398976000.000   \n",
              "4                           432213.000                         432213.000   \n",
              "\n",
              "  Import/Export Status Fiscal Year End              Global Ultimate Company  \\\n",
              "0                  NaN             NaN               FINDERS HOLDCO LIMITED   \n",
              "1                  NaN             NaN                PETREDEC PTE. LIMITED   \n",
              "2                  NaN             NaN  MADISON LIGHTERS AND WATCHES CO LTD   \n",
              "3                  NaN             NaN         WILMAR INTERNATIONAL LIMITED   \n",
              "4              Exports             NaN         ASIA GREEN CAPITAL PTE. LTD.   \n",
              "\n",
              "  Global Ultimate Country             Domestic Ultimate Company  \\\n",
              "0          United Kingdom  FRANK RECRUITMENT GROUP PRIVATE LTD.   \n",
              "1               Singapore                                   NaN   \n",
              "2           Hong Kong SAR           2MBAO BIOCELLBANK PTE. LTD.   \n",
              "3               Singapore          WILMAR INTERNATIONAL LIMITED   \n",
              "4               Singapore          ASIA GREEN CAPITAL PTE. LTD.   \n",
              "\n",
              "   Is Domestic Ultimate  Is Global Ultimate  \n",
              "0                 0.000               0.000  \n",
              "1                 0.000               0.000  \n",
              "2                 1.000               0.000  \n",
              "3                 0.000               0.000  \n",
              "4                 1.000               1.000  "
            ],
            "text/html": [
              "\n",
              "  <div id=\"df-9d1d0504-32d0-41eb-aadc-4ec798ff5d2b\" class=\"colab-df-container\">\n",
              "    <div>\n",
              "<style scoped>\n",
              "    .dataframe tbody tr th:only-of-type {\n",
              "        vertical-align: middle;\n",
              "    }\n",
              "\n",
              "    .dataframe tbody tr th {\n",
              "        vertical-align: top;\n",
              "    }\n",
              "\n",
              "    .dataframe thead th {\n",
              "        text-align: right;\n",
              "    }\n",
              "</style>\n",
              "<table border=\"1\" class=\"dataframe\">\n",
              "  <thead>\n",
              "    <tr style=\"text-align: right;\">\n",
              "      <th></th>\n",
              "      <th>LATITUDE</th>\n",
              "      <th>LONGITUDE</th>\n",
              "      <th>AccountID</th>\n",
              "      <th>Company</th>\n",
              "      <th>SIC Code</th>\n",
              "      <th>Industry</th>\n",
              "      <th>8-Digit SIC Code</th>\n",
              "      <th>8-Digit SIC Description</th>\n",
              "      <th>Year Found</th>\n",
              "      <th>Entity Type</th>\n",
              "      <th>Parent Company</th>\n",
              "      <th>Parent Country</th>\n",
              "      <th>Ownership Type</th>\n",
              "      <th>Company Description</th>\n",
              "      <th>Square Footage</th>\n",
              "      <th>Company Status (Active/Inactive)</th>\n",
              "      <th>Employees (Single Site)</th>\n",
              "      <th>Employees (Domestic Ultimate Total)</th>\n",
              "      <th>Employees (Global Ultimate Total)</th>\n",
              "      <th>Sales (Domestic Ultimate Total USD)</th>\n",
              "      <th>Sales (Global Ultimate Total USD)</th>\n",
              "      <th>Import/Export Status</th>\n",
              "      <th>Fiscal Year End</th>\n",
              "      <th>Global Ultimate Company</th>\n",
              "      <th>Global Ultimate Country</th>\n",
              "      <th>Domestic Ultimate Company</th>\n",
              "      <th>Is Domestic Ultimate</th>\n",
              "      <th>Is Global Ultimate</th>\n",
              "    </tr>\n",
              "  </thead>\n",
              "  <tbody>\n",
              "    <tr>\n",
              "      <th>0</th>\n",
              "      <td>1.285</td>\n",
              "      <td>103.844</td>\n",
              "      <td>LAKB2BID4559214</td>\n",
              "      <td>FRANK CONSULTING SERVICES PRIVATE LIMITED</td>\n",
              "      <td>7361.000</td>\n",
              "      <td>Employment Agencies</td>\n",
              "      <td>73610000.000</td>\n",
              "      <td>Employment agencies</td>\n",
              "      <td>2020.000</td>\n",
              "      <td>Subsidiary</td>\n",
              "      <td>FRANK RECRUITMENT GROUP PRIVATE LTD.</td>\n",
              "      <td>Singapore</td>\n",
              "      <td>Private</td>\n",
              "      <td>Frank Consulting Services Private Limited is p...</td>\n",
              "      <td>NaN</td>\n",
              "      <td>Active</td>\n",
              "      <td>15.000</td>\n",
              "      <td>25.000</td>\n",
              "      <td>NaN</td>\n",
              "      <td>2209224.000</td>\n",
              "      <td>4637871.000</td>\n",
              "      <td>NaN</td>\n",
              "      <td>NaN</td>\n",
              "      <td>FINDERS HOLDCO LIMITED</td>\n",
              "      <td>United Kingdom</td>\n",
              "      <td>FRANK RECRUITMENT GROUP PRIVATE LTD.</td>\n",
              "      <td>0.000</td>\n",
              "      <td>0.000</td>\n",
              "    </tr>\n",
              "    <tr>\n",
              "      <th>1</th>\n",
              "      <td>1.291</td>\n",
              "      <td>103.827</td>\n",
              "      <td>LAKB2BID7610849</td>\n",
              "      <td>NEW DESERT ORCHID SHIPPING PTE. LTD.</td>\n",
              "      <td>4449.000</td>\n",
              "      <td>Water Transportation of Freight, Not Elsewhere...</td>\n",
              "      <td>44490000.000</td>\n",
              "      <td>Water transportation of freight</td>\n",
              "      <td>2015.000</td>\n",
              "      <td>Subsidiary</td>\n",
              "      <td>FORTITUDE SHIPPING PTE. LTD.</td>\n",
              "      <td>Singapore</td>\n",
              "      <td>Private</td>\n",
              "      <td>New Desert Orchid Shipping Pte. Ltd. is primar...</td>\n",
              "      <td>NaN</td>\n",
              "      <td>Active</td>\n",
              "      <td>39.000</td>\n",
              "      <td>100.000</td>\n",
              "      <td>100.000</td>\n",
              "      <td>7093536000.000</td>\n",
              "      <td>7093536000.000</td>\n",
              "      <td>NaN</td>\n",
              "      <td>NaN</td>\n",
              "      <td>PETREDEC PTE. LIMITED</td>\n",
              "      <td>Singapore</td>\n",
              "      <td>NaN</td>\n",
              "      <td>0.000</td>\n",
              "      <td>0.000</td>\n",
              "    </tr>\n",
              "    <tr>\n",
              "      <th>2</th>\n",
              "      <td>1.300</td>\n",
              "      <td>103.858</td>\n",
              "      <td>LAKB2BID5461679</td>\n",
              "      <td>2MBAO BIOCELLBANK PTE. LTD.</td>\n",
              "      <td>6719.000</td>\n",
              "      <td>Offices of Holding Companies, Not Elsewhere Cl...</td>\n",
              "      <td>67190000.000</td>\n",
              "      <td>Holding companies, nec</td>\n",
              "      <td>1993.000</td>\n",
              "      <td>Subsidiary</td>\n",
              "      <td>MADISON LIGHTERS AND WATCHES CO LTD</td>\n",
              "      <td>Hong Kong SAR</td>\n",
              "      <td>Private</td>\n",
              "      <td>2Mbao Biocellbank Pte. Ltd. is primarily engag...</td>\n",
              "      <td>NaN</td>\n",
              "      <td>Active</td>\n",
              "      <td>4.000</td>\n",
              "      <td>4.000</td>\n",
              "      <td>4.000</td>\n",
              "      <td>1026308.000</td>\n",
              "      <td>1026308.000</td>\n",
              "      <td>NaN</td>\n",
              "      <td>NaN</td>\n",
              "      <td>MADISON LIGHTERS AND WATCHES CO LTD</td>\n",
              "      <td>Hong Kong SAR</td>\n",
              "      <td>2MBAO BIOCELLBANK PTE. LTD.</td>\n",
              "      <td>1.000</td>\n",
              "      <td>0.000</td>\n",
              "    </tr>\n",
              "    <tr>\n",
              "      <th>3</th>\n",
              "      <td>1.301</td>\n",
              "      <td>103.791</td>\n",
              "      <td>LAKB2BID5088529</td>\n",
              "      <td>NEWBLOOM PTE. LTD.</td>\n",
              "      <td>6719.000</td>\n",
              "      <td>Offices of Holding Companies, Not Elsewhere Cl...</td>\n",
              "      <td>67190000.000</td>\n",
              "      <td>Holding companies, nec</td>\n",
              "      <td>2006.000</td>\n",
              "      <td>Subsidiary</td>\n",
              "      <td>WILMAR INTERNATIONAL LIMITED</td>\n",
              "      <td>Singapore</td>\n",
              "      <td>Private</td>\n",
              "      <td>Newbloom Pte. Ltd. is primarily engaged in hol...</td>\n",
              "      <td>NaN</td>\n",
              "      <td>Active</td>\n",
              "      <td>10.000</td>\n",
              "      <td>100.000</td>\n",
              "      <td>100.000</td>\n",
              "      <td>73398976000.000</td>\n",
              "      <td>73398976000.000</td>\n",
              "      <td>NaN</td>\n",
              "      <td>NaN</td>\n",
              "      <td>WILMAR INTERNATIONAL LIMITED</td>\n",
              "      <td>Singapore</td>\n",
              "      <td>WILMAR INTERNATIONAL LIMITED</td>\n",
              "      <td>0.000</td>\n",
              "      <td>0.000</td>\n",
              "    </tr>\n",
              "    <tr>\n",
              "      <th>4</th>\n",
              "      <td>1.299</td>\n",
              "      <td>103.859</td>\n",
              "      <td>LAKB2BID1268831</td>\n",
              "      <td>ASIA GREEN CAPITAL PTE. LTD.</td>\n",
              "      <td>6719.000</td>\n",
              "      <td>Offices of Holding Companies, Not Elsewhere Cl...</td>\n",
              "      <td>67190000.000</td>\n",
              "      <td>Holding companies, nec</td>\n",
              "      <td>2006.000</td>\n",
              "      <td>Parent</td>\n",
              "      <td>ASIA GREEN CAPITAL PTE. LTD.</td>\n",
              "      <td>Singapore</td>\n",
              "      <td>Private</td>\n",
              "      <td>Asia Green Capital Pte. Ltd. is primarily enga...</td>\n",
              "      <td>NaN</td>\n",
              "      <td>Active</td>\n",
              "      <td>NaN</td>\n",
              "      <td>4.000</td>\n",
              "      <td>4.000</td>\n",
              "      <td>432213.000</td>\n",
              "      <td>432213.000</td>\n",
              "      <td>Exports</td>\n",
              "      <td>NaN</td>\n",
              "      <td>ASIA GREEN CAPITAL PTE. LTD.</td>\n",
              "      <td>Singapore</td>\n",
              "      <td>ASIA GREEN CAPITAL PTE. LTD.</td>\n",
              "      <td>1.000</td>\n",
              "      <td>1.000</td>\n",
              "    </tr>\n",
              "  </tbody>\n",
              "</table>\n",
              "</div>\n",
              "    <div class=\"colab-df-buttons\">\n",
              "\n",
              "  <div class=\"colab-df-container\">\n",
              "    <button class=\"colab-df-convert\" onclick=\"convertToInteractive('df-9d1d0504-32d0-41eb-aadc-4ec798ff5d2b')\"\n",
              "            title=\"Convert this dataframe to an interactive table.\"\n",
              "            style=\"display:none;\">\n",
              "\n",
              "  <svg xmlns=\"http://www.w3.org/2000/svg\" height=\"24px\" viewBox=\"0 -960 960 960\">\n",
              "    <path d=\"M120-120v-720h720v720H120Zm60-500h600v-160H180v160Zm220 220h160v-160H400v160Zm0 220h160v-160H400v160ZM180-400h160v-160H180v160Zm440 0h160v-160H620v160ZM180-180h160v-160H180v160Zm440 0h160v-160H620v160Z\"/>\n",
              "  </svg>\n",
              "    </button>\n",
              "\n",
              "  <style>\n",
              "    .colab-df-container {\n",
              "      display:flex;\n",
              "      gap: 12px;\n",
              "    }\n",
              "\n",
              "    .colab-df-convert {\n",
              "      background-color: #E8F0FE;\n",
              "      border: none;\n",
              "      border-radius: 50%;\n",
              "      cursor: pointer;\n",
              "      display: none;\n",
              "      fill: #1967D2;\n",
              "      height: 32px;\n",
              "      padding: 0 0 0 0;\n",
              "      width: 32px;\n",
              "    }\n",
              "\n",
              "    .colab-df-convert:hover {\n",
              "      background-color: #E2EBFA;\n",
              "      box-shadow: 0px 1px 2px rgba(60, 64, 67, 0.3), 0px 1px 3px 1px rgba(60, 64, 67, 0.15);\n",
              "      fill: #174EA6;\n",
              "    }\n",
              "\n",
              "    .colab-df-buttons div {\n",
              "      margin-bottom: 4px;\n",
              "    }\n",
              "\n",
              "    [theme=dark] .colab-df-convert {\n",
              "      background-color: #3B4455;\n",
              "      fill: #D2E3FC;\n",
              "    }\n",
              "\n",
              "    [theme=dark] .colab-df-convert:hover {\n",
              "      background-color: #434B5C;\n",
              "      box-shadow: 0px 1px 3px 1px rgba(0, 0, 0, 0.15);\n",
              "      filter: drop-shadow(0px 1px 2px rgba(0, 0, 0, 0.3));\n",
              "      fill: #FFFFFF;\n",
              "    }\n",
              "  </style>\n",
              "\n",
              "    <script>\n",
              "      const buttonEl =\n",
              "        document.querySelector('#df-9d1d0504-32d0-41eb-aadc-4ec798ff5d2b button.colab-df-convert');\n",
              "      buttonEl.style.display =\n",
              "        google.colab.kernel.accessAllowed ? 'block' : 'none';\n",
              "\n",
              "      async function convertToInteractive(key) {\n",
              "        const element = document.querySelector('#df-9d1d0504-32d0-41eb-aadc-4ec798ff5d2b');\n",
              "        const dataTable =\n",
              "          await google.colab.kernel.invokeFunction('convertToInteractive',\n",
              "                                                    [key], {});\n",
              "        if (!dataTable) return;\n",
              "\n",
              "        const docLinkHtml = 'Like what you see? Visit the ' +\n",
              "          '<a target=\"_blank\" href=https://colab.research.google.com/notebooks/data_table.ipynb>data table notebook</a>'\n",
              "          + ' to learn more about interactive tables.';\n",
              "        element.innerHTML = '';\n",
              "        dataTable['output_type'] = 'display_data';\n",
              "        await google.colab.output.renderOutput(dataTable, element);\n",
              "        const docLink = document.createElement('div');\n",
              "        docLink.innerHTML = docLinkHtml;\n",
              "        element.appendChild(docLink);\n",
              "      }\n",
              "    </script>\n",
              "  </div>\n",
              "\n",
              "\n",
              "<div id=\"df-e5a093f0-e630-4fe0-96d4-5e8c079a8a93\">\n",
              "  <button class=\"colab-df-quickchart\" onclick=\"quickchart('df-e5a093f0-e630-4fe0-96d4-5e8c079a8a93')\"\n",
              "            title=\"Suggest charts\"\n",
              "            style=\"display:none;\">\n",
              "\n",
              "<svg xmlns=\"http://www.w3.org/2000/svg\" height=\"24px\"viewBox=\"0 0 24 24\"\n",
              "     width=\"24px\">\n",
              "    <g>\n",
              "        <path d=\"M19 3H5c-1.1 0-2 .9-2 2v14c0 1.1.9 2 2 2h14c1.1 0 2-.9 2-2V5c0-1.1-.9-2-2-2zM9 17H7v-7h2v7zm4 0h-2V7h2v10zm4 0h-2v-4h2v4z\"/>\n",
              "    </g>\n",
              "</svg>\n",
              "  </button>\n",
              "\n",
              "<style>\n",
              "  .colab-df-quickchart {\n",
              "      --bg-color: #E8F0FE;\n",
              "      --fill-color: #1967D2;\n",
              "      --hover-bg-color: #E2EBFA;\n",
              "      --hover-fill-color: #174EA6;\n",
              "      --disabled-fill-color: #AAA;\n",
              "      --disabled-bg-color: #DDD;\n",
              "  }\n",
              "\n",
              "  [theme=dark] .colab-df-quickchart {\n",
              "      --bg-color: #3B4455;\n",
              "      --fill-color: #D2E3FC;\n",
              "      --hover-bg-color: #434B5C;\n",
              "      --hover-fill-color: #FFFFFF;\n",
              "      --disabled-bg-color: #3B4455;\n",
              "      --disabled-fill-color: #666;\n",
              "  }\n",
              "\n",
              "  .colab-df-quickchart {\n",
              "    background-color: var(--bg-color);\n",
              "    border: none;\n",
              "    border-radius: 50%;\n",
              "    cursor: pointer;\n",
              "    display: none;\n",
              "    fill: var(--fill-color);\n",
              "    height: 32px;\n",
              "    padding: 0;\n",
              "    width: 32px;\n",
              "  }\n",
              "\n",
              "  .colab-df-quickchart:hover {\n",
              "    background-color: var(--hover-bg-color);\n",
              "    box-shadow: 0 1px 2px rgba(60, 64, 67, 0.3), 0 1px 3px 1px rgba(60, 64, 67, 0.15);\n",
              "    fill: var(--button-hover-fill-color);\n",
              "  }\n",
              "\n",
              "  .colab-df-quickchart-complete:disabled,\n",
              "  .colab-df-quickchart-complete:disabled:hover {\n",
              "    background-color: var(--disabled-bg-color);\n",
              "    fill: var(--disabled-fill-color);\n",
              "    box-shadow: none;\n",
              "  }\n",
              "\n",
              "  .colab-df-spinner {\n",
              "    border: 2px solid var(--fill-color);\n",
              "    border-color: transparent;\n",
              "    border-bottom-color: var(--fill-color);\n",
              "    animation:\n",
              "      spin 1s steps(1) infinite;\n",
              "  }\n",
              "\n",
              "  @keyframes spin {\n",
              "    0% {\n",
              "      border-color: transparent;\n",
              "      border-bottom-color: var(--fill-color);\n",
              "      border-left-color: var(--fill-color);\n",
              "    }\n",
              "    20% {\n",
              "      border-color: transparent;\n",
              "      border-left-color: var(--fill-color);\n",
              "      border-top-color: var(--fill-color);\n",
              "    }\n",
              "    30% {\n",
              "      border-color: transparent;\n",
              "      border-left-color: var(--fill-color);\n",
              "      border-top-color: var(--fill-color);\n",
              "      border-right-color: var(--fill-color);\n",
              "    }\n",
              "    40% {\n",
              "      border-color: transparent;\n",
              "      border-right-color: var(--fill-color);\n",
              "      border-top-color: var(--fill-color);\n",
              "    }\n",
              "    60% {\n",
              "      border-color: transparent;\n",
              "      border-right-color: var(--fill-color);\n",
              "    }\n",
              "    80% {\n",
              "      border-color: transparent;\n",
              "      border-right-color: var(--fill-color);\n",
              "      border-bottom-color: var(--fill-color);\n",
              "    }\n",
              "    90% {\n",
              "      border-color: transparent;\n",
              "      border-bottom-color: var(--fill-color);\n",
              "    }\n",
              "  }\n",
              "</style>\n",
              "\n",
              "  <script>\n",
              "    async function quickchart(key) {\n",
              "      const quickchartButtonEl =\n",
              "        document.querySelector('#' + key + ' button');\n",
              "      quickchartButtonEl.disabled = true;  // To prevent multiple clicks.\n",
              "      quickchartButtonEl.classList.add('colab-df-spinner');\n",
              "      try {\n",
              "        const charts = await google.colab.kernel.invokeFunction(\n",
              "            'suggestCharts', [key], {});\n",
              "      } catch (error) {\n",
              "        console.error('Error during call to suggestCharts:', error);\n",
              "      }\n",
              "      quickchartButtonEl.classList.remove('colab-df-spinner');\n",
              "      quickchartButtonEl.classList.add('colab-df-quickchart-complete');\n",
              "    }\n",
              "    (() => {\n",
              "      let quickchartButtonEl =\n",
              "        document.querySelector('#df-e5a093f0-e630-4fe0-96d4-5e8c079a8a93 button');\n",
              "      quickchartButtonEl.style.display =\n",
              "        google.colab.kernel.accessAllowed ? 'block' : 'none';\n",
              "    })();\n",
              "  </script>\n",
              "</div>\n",
              "\n",
              "    </div>\n",
              "  </div>\n"
            ]
          },
          "metadata": {},
          "execution_count": 4
        }
      ]
    },
    {
      "cell_type": "code",
      "source": [
        "# Show information better than describe() and info()\n",
        "desc = pd.DataFrame(index=df.columns)\n",
        "desc[\"count\"] = df.count()\n",
        "desc[\"null\"] = df.isna().sum()\n",
        "desc[\"%null\"] = desc[\"null\"] / len(df) * 100\n",
        "desc[\"nunique\"] = df.nunique()\n",
        "desc[\"%unique\"] = desc[\"nunique\"] / len(df) * 100\n",
        "desc[\"type\"] = df.dtypes\n",
        "desc = pd.concat([desc, df.describe().T.drop(\"count\", axis=1)], axis=1)\n",
        "\n",
        "# styles = [dict(selector=f\".row_heading\", props=[('text-align', 'left')])]\n",
        "# desc = desc.style.set_table_styles(styles)\n",
        "desc"
      ],
      "metadata": {
        "id": "XDXMabpRP_M3",
        "colab": {
          "base_uri": "https://localhost:8080/",
          "height": 1000
        },
        "outputId": "5e77c44d-0da7-47b4-bb65-48a6178c8ee0"
      },
      "execution_count": null,
      "outputs": [
        {
          "output_type": "execute_result",
          "data": {
            "text/plain": [
              "                                     count   null   %null  nunique  %unique  \\\n",
              "LATITUDE                             29062    120   0.411     9305   31.886   \n",
              "LONGITUDE                            29062    120   0.411     9307   31.893   \n",
              "AccountID                            29182      0   0.000    29182  100.000   \n",
              "Company                              29182      0   0.000    29182  100.000   \n",
              "SIC Code                             29182      0   0.000      582    1.994   \n",
              "Industry                             29182      0   0.000      580    1.988   \n",
              "8-Digit SIC Code                     29182      0   0.000     2255    7.727   \n",
              "8-Digit SIC Description              29182      0   0.000     2191    7.508   \n",
              "Year Found                           28748    434   1.487      106    0.363   \n",
              "Entity Type                          29182      0   0.000        4    0.014   \n",
              "Parent Company                       28668    514   1.761    17882   61.277   \n",
              "Parent Country                       28662    520   1.782       69    0.236   \n",
              "Ownership Type                       29182      0   0.000        6    0.021   \n",
              "Company Description                  29182      0   0.000    28615   98.057   \n",
              "Square Footage                           0  29182 100.000        0    0.000   \n",
              "Company Status (Active/Inactive)     29182      0   0.000        1    0.003   \n",
              "Employees (Single Site)              16779  12403  42.502      227    0.778   \n",
              "Employees (Domestic Ultimate Total)  29103     79   0.271      380    1.302   \n",
              "Employees (Global Ultimate Total)    26408   2774   9.506     2013    6.898   \n",
              "Sales (Domestic Ultimate Total USD)  29182      0   0.000     8346   28.600   \n",
              "Sales (Global Ultimate Total USD)    29182      0   0.000     7574   25.954   \n",
              "Import/Export Status                  6613  22569  77.339        3    0.010   \n",
              "Fiscal Year End                       6737  22445  76.914      115    0.394   \n",
              "Global Ultimate Company              28668    514   1.761    14145   48.472   \n",
              "Global Ultimate Country              28659    523   1.792       74    0.254   \n",
              "Domestic Ultimate Company            28147   1035   3.547    15597   53.447   \n",
              "Is Domestic Ultimate                 29182      0   0.000        2    0.007   \n",
              "Is Global Ultimate                   29182      0   0.000        2    0.007   \n",
              "\n",
              "                                        type           mean             std  \\\n",
              "LATITUDE                             float64          1.321           0.044   \n",
              "LONGITUDE                            float64        103.843           0.054   \n",
              "AccountID                             object            NaN             NaN   \n",
              "Company                               object            NaN             NaN   \n",
              "SIC Code                             float64       6169.271        1705.846   \n",
              "Industry                              object            NaN             NaN   \n",
              "8-Digit SIC Code                     float64   61690923.550    17057775.477   \n",
              "8-Digit SIC Description               object            NaN             NaN   \n",
              "Year Found                           float64       2004.506          13.464   \n",
              "Entity Type                           object            NaN             NaN   \n",
              "Parent Company                        object            NaN             NaN   \n",
              "Parent Country                        object            NaN             NaN   \n",
              "Ownership Type                        object            NaN             NaN   \n",
              "Company Description                   object            NaN             NaN   \n",
              "Square Footage                       float64            NaN             NaN   \n",
              "Company Status (Active/Inactive)      object            NaN             NaN   \n",
              "Employees (Single Site)              float64         36.856         173.334   \n",
              "Employees (Domestic Ultimate Total)  float64        139.764        1118.939   \n",
              "Employees (Global Ultimate Total)    float64       6994.665       45394.620   \n",
              "Sales (Domestic Ultimate Total USD)  float64  752099211.696 10196356845.562   \n",
              "Sales (Global Ultimate Total USD)    float64 3931771384.010 21845885778.988   \n",
              "Import/Export Status                  object            NaN             NaN   \n",
              "Fiscal Year End                       object            NaN             NaN   \n",
              "Global Ultimate Company               object            NaN             NaN   \n",
              "Global Ultimate Country               object            NaN             NaN   \n",
              "Domestic Ultimate Company             object            NaN             NaN   \n",
              "Is Domestic Ultimate                 float64          0.500           0.500   \n",
              "Is Global Ultimate                   float64          0.257           0.437   \n",
              "\n",
              "                                               min          25%          50%  \\\n",
              "LATITUDE                                     1.239        1.285        1.310   \n",
              "LONGITUDE                                  103.611      103.832      103.849   \n",
              "AccountID                                      NaN          NaN          NaN   \n",
              "Company                                        NaN          NaN          NaN   \n",
              "SIC Code                                   132.000     5084.000     6719.000   \n",
              "Industry                                       NaN          NaN          NaN   \n",
              "8-Digit SIC Code                       1320000.000 50840000.000 67190000.000   \n",
              "8-Digit SIC Description                        NaN          NaN          NaN   \n",
              "Year Found                                1819.000     1997.000     2008.000   \n",
              "Entity Type                                    NaN          NaN          NaN   \n",
              "Parent Company                                 NaN          NaN          NaN   \n",
              "Parent Country                                 NaN          NaN          NaN   \n",
              "Ownership Type                                 NaN          NaN          NaN   \n",
              "Company Description                            NaN          NaN          NaN   \n",
              "Square Footage                                 NaN          NaN          NaN   \n",
              "Company Status (Active/Inactive)               NaN          NaN          NaN   \n",
              "Employees (Single Site)                      1.000       10.000       16.000   \n",
              "Employees (Domestic Ultimate Total)          1.000        4.000       16.000   \n",
              "Employees (Global Ultimate Total)            1.000        4.000       15.000   \n",
              "Sales (Domestic Ultimate Total USD) -150263100.000  1026308.000  2606644.000   \n",
              "Sales (Global Ultimate Total USD)            1.000  1026308.000  3259582.500   \n",
              "Import/Export Status                           NaN          NaN          NaN   \n",
              "Fiscal Year End                                NaN          NaN          NaN   \n",
              "Global Ultimate Company                        NaN          NaN          NaN   \n",
              "Global Ultimate Country                        NaN          NaN          NaN   \n",
              "Domestic Ultimate Company                      NaN          NaN          NaN   \n",
              "Is Domestic Ultimate                         0.000        0.000        1.000   \n",
              "Is Global Ultimate                           0.000        0.000        0.000   \n",
              "\n",
              "                                              75%              max  \n",
              "LATITUDE                                    1.338            1.470  \n",
              "LONGITUDE                                 103.866          104.003  \n",
              "AccountID                                     NaN              NaN  \n",
              "Company                                       NaN              NaN  \n",
              "SIC Code                                 7311.000         9721.000  \n",
              "Industry                                      NaN              NaN  \n",
              "8-Digit SIC Code                     73110000.000     97219905.000  \n",
              "8-Digit SIC Description                       NaN              NaN  \n",
              "Year Found                               2014.000         2023.000  \n",
              "Entity Type                                   NaN              NaN  \n",
              "Parent Company                                NaN              NaN  \n",
              "Parent Country                                NaN              NaN  \n",
              "Ownership Type                                NaN              NaN  \n",
              "Company Description                           NaN              NaN  \n",
              "Square Footage                                NaN              NaN  \n",
              "Company Status (Active/Inactive)              NaN              NaN  \n",
              "Employees (Single Site)                    29.000        12000.000  \n",
              "Employees (Domestic Ultimate Total)        60.000        80000.000  \n",
              "Employees (Global Ultimate Total)         100.000      2190000.000  \n",
              "Sales (Domestic Ultimate Total USD)  21769689.750 318476400000.000  \n",
              "Sales (Global Ultimate Total USD)   148225815.250 514000000000.000  \n",
              "Import/Export Status                          NaN              NaN  \n",
              "Fiscal Year End                               NaN              NaN  \n",
              "Global Ultimate Company                       NaN              NaN  \n",
              "Global Ultimate Country                       NaN              NaN  \n",
              "Domestic Ultimate Company                     NaN              NaN  \n",
              "Is Domestic Ultimate                        1.000            1.000  \n",
              "Is Global Ultimate                          1.000            1.000  "
            ],
            "text/html": [
              "\n",
              "  <div id=\"df-4de079fb-93a2-4b10-80ea-30c9d5a3f431\" class=\"colab-df-container\">\n",
              "    <div>\n",
              "<style scoped>\n",
              "    .dataframe tbody tr th:only-of-type {\n",
              "        vertical-align: middle;\n",
              "    }\n",
              "\n",
              "    .dataframe tbody tr th {\n",
              "        vertical-align: top;\n",
              "    }\n",
              "\n",
              "    .dataframe thead th {\n",
              "        text-align: right;\n",
              "    }\n",
              "</style>\n",
              "<table border=\"1\" class=\"dataframe\">\n",
              "  <thead>\n",
              "    <tr style=\"text-align: right;\">\n",
              "      <th></th>\n",
              "      <th>count</th>\n",
              "      <th>null</th>\n",
              "      <th>%null</th>\n",
              "      <th>nunique</th>\n",
              "      <th>%unique</th>\n",
              "      <th>type</th>\n",
              "      <th>mean</th>\n",
              "      <th>std</th>\n",
              "      <th>min</th>\n",
              "      <th>25%</th>\n",
              "      <th>50%</th>\n",
              "      <th>75%</th>\n",
              "      <th>max</th>\n",
              "    </tr>\n",
              "  </thead>\n",
              "  <tbody>\n",
              "    <tr>\n",
              "      <th>LATITUDE</th>\n",
              "      <td>29062</td>\n",
              "      <td>120</td>\n",
              "      <td>0.411</td>\n",
              "      <td>9305</td>\n",
              "      <td>31.886</td>\n",
              "      <td>float64</td>\n",
              "      <td>1.321</td>\n",
              "      <td>0.044</td>\n",
              "      <td>1.239</td>\n",
              "      <td>1.285</td>\n",
              "      <td>1.310</td>\n",
              "      <td>1.338</td>\n",
              "      <td>1.470</td>\n",
              "    </tr>\n",
              "    <tr>\n",
              "      <th>LONGITUDE</th>\n",
              "      <td>29062</td>\n",
              "      <td>120</td>\n",
              "      <td>0.411</td>\n",
              "      <td>9307</td>\n",
              "      <td>31.893</td>\n",
              "      <td>float64</td>\n",
              "      <td>103.843</td>\n",
              "      <td>0.054</td>\n",
              "      <td>103.611</td>\n",
              "      <td>103.832</td>\n",
              "      <td>103.849</td>\n",
              "      <td>103.866</td>\n",
              "      <td>104.003</td>\n",
              "    </tr>\n",
              "    <tr>\n",
              "      <th>AccountID</th>\n",
              "      <td>29182</td>\n",
              "      <td>0</td>\n",
              "      <td>0.000</td>\n",
              "      <td>29182</td>\n",
              "      <td>100.000</td>\n",
              "      <td>object</td>\n",
              "      <td>NaN</td>\n",
              "      <td>NaN</td>\n",
              "      <td>NaN</td>\n",
              "      <td>NaN</td>\n",
              "      <td>NaN</td>\n",
              "      <td>NaN</td>\n",
              "      <td>NaN</td>\n",
              "    </tr>\n",
              "    <tr>\n",
              "      <th>Company</th>\n",
              "      <td>29182</td>\n",
              "      <td>0</td>\n",
              "      <td>0.000</td>\n",
              "      <td>29182</td>\n",
              "      <td>100.000</td>\n",
              "      <td>object</td>\n",
              "      <td>NaN</td>\n",
              "      <td>NaN</td>\n",
              "      <td>NaN</td>\n",
              "      <td>NaN</td>\n",
              "      <td>NaN</td>\n",
              "      <td>NaN</td>\n",
              "      <td>NaN</td>\n",
              "    </tr>\n",
              "    <tr>\n",
              "      <th>SIC Code</th>\n",
              "      <td>29182</td>\n",
              "      <td>0</td>\n",
              "      <td>0.000</td>\n",
              "      <td>582</td>\n",
              "      <td>1.994</td>\n",
              "      <td>float64</td>\n",
              "      <td>6169.271</td>\n",
              "      <td>1705.846</td>\n",
              "      <td>132.000</td>\n",
              "      <td>5084.000</td>\n",
              "      <td>6719.000</td>\n",
              "      <td>7311.000</td>\n",
              "      <td>9721.000</td>\n",
              "    </tr>\n",
              "    <tr>\n",
              "      <th>Industry</th>\n",
              "      <td>29182</td>\n",
              "      <td>0</td>\n",
              "      <td>0.000</td>\n",
              "      <td>580</td>\n",
              "      <td>1.988</td>\n",
              "      <td>object</td>\n",
              "      <td>NaN</td>\n",
              "      <td>NaN</td>\n",
              "      <td>NaN</td>\n",
              "      <td>NaN</td>\n",
              "      <td>NaN</td>\n",
              "      <td>NaN</td>\n",
              "      <td>NaN</td>\n",
              "    </tr>\n",
              "    <tr>\n",
              "      <th>8-Digit SIC Code</th>\n",
              "      <td>29182</td>\n",
              "      <td>0</td>\n",
              "      <td>0.000</td>\n",
              "      <td>2255</td>\n",
              "      <td>7.727</td>\n",
              "      <td>float64</td>\n",
              "      <td>61690923.550</td>\n",
              "      <td>17057775.477</td>\n",
              "      <td>1320000.000</td>\n",
              "      <td>50840000.000</td>\n",
              "      <td>67190000.000</td>\n",
              "      <td>73110000.000</td>\n",
              "      <td>97219905.000</td>\n",
              "    </tr>\n",
              "    <tr>\n",
              "      <th>8-Digit SIC Description</th>\n",
              "      <td>29182</td>\n",
              "      <td>0</td>\n",
              "      <td>0.000</td>\n",
              "      <td>2191</td>\n",
              "      <td>7.508</td>\n",
              "      <td>object</td>\n",
              "      <td>NaN</td>\n",
              "      <td>NaN</td>\n",
              "      <td>NaN</td>\n",
              "      <td>NaN</td>\n",
              "      <td>NaN</td>\n",
              "      <td>NaN</td>\n",
              "      <td>NaN</td>\n",
              "    </tr>\n",
              "    <tr>\n",
              "      <th>Year Found</th>\n",
              "      <td>28748</td>\n",
              "      <td>434</td>\n",
              "      <td>1.487</td>\n",
              "      <td>106</td>\n",
              "      <td>0.363</td>\n",
              "      <td>float64</td>\n",
              "      <td>2004.506</td>\n",
              "      <td>13.464</td>\n",
              "      <td>1819.000</td>\n",
              "      <td>1997.000</td>\n",
              "      <td>2008.000</td>\n",
              "      <td>2014.000</td>\n",
              "      <td>2023.000</td>\n",
              "    </tr>\n",
              "    <tr>\n",
              "      <th>Entity Type</th>\n",
              "      <td>29182</td>\n",
              "      <td>0</td>\n",
              "      <td>0.000</td>\n",
              "      <td>4</td>\n",
              "      <td>0.014</td>\n",
              "      <td>object</td>\n",
              "      <td>NaN</td>\n",
              "      <td>NaN</td>\n",
              "      <td>NaN</td>\n",
              "      <td>NaN</td>\n",
              "      <td>NaN</td>\n",
              "      <td>NaN</td>\n",
              "      <td>NaN</td>\n",
              "    </tr>\n",
              "    <tr>\n",
              "      <th>Parent Company</th>\n",
              "      <td>28668</td>\n",
              "      <td>514</td>\n",
              "      <td>1.761</td>\n",
              "      <td>17882</td>\n",
              "      <td>61.277</td>\n",
              "      <td>object</td>\n",
              "      <td>NaN</td>\n",
              "      <td>NaN</td>\n",
              "      <td>NaN</td>\n",
              "      <td>NaN</td>\n",
              "      <td>NaN</td>\n",
              "      <td>NaN</td>\n",
              "      <td>NaN</td>\n",
              "    </tr>\n",
              "    <tr>\n",
              "      <th>Parent Country</th>\n",
              "      <td>28662</td>\n",
              "      <td>520</td>\n",
              "      <td>1.782</td>\n",
              "      <td>69</td>\n",
              "      <td>0.236</td>\n",
              "      <td>object</td>\n",
              "      <td>NaN</td>\n",
              "      <td>NaN</td>\n",
              "      <td>NaN</td>\n",
              "      <td>NaN</td>\n",
              "      <td>NaN</td>\n",
              "      <td>NaN</td>\n",
              "      <td>NaN</td>\n",
              "    </tr>\n",
              "    <tr>\n",
              "      <th>Ownership Type</th>\n",
              "      <td>29182</td>\n",
              "      <td>0</td>\n",
              "      <td>0.000</td>\n",
              "      <td>6</td>\n",
              "      <td>0.021</td>\n",
              "      <td>object</td>\n",
              "      <td>NaN</td>\n",
              "      <td>NaN</td>\n",
              "      <td>NaN</td>\n",
              "      <td>NaN</td>\n",
              "      <td>NaN</td>\n",
              "      <td>NaN</td>\n",
              "      <td>NaN</td>\n",
              "    </tr>\n",
              "    <tr>\n",
              "      <th>Company Description</th>\n",
              "      <td>29182</td>\n",
              "      <td>0</td>\n",
              "      <td>0.000</td>\n",
              "      <td>28615</td>\n",
              "      <td>98.057</td>\n",
              "      <td>object</td>\n",
              "      <td>NaN</td>\n",
              "      <td>NaN</td>\n",
              "      <td>NaN</td>\n",
              "      <td>NaN</td>\n",
              "      <td>NaN</td>\n",
              "      <td>NaN</td>\n",
              "      <td>NaN</td>\n",
              "    </tr>\n",
              "    <tr>\n",
              "      <th>Square Footage</th>\n",
              "      <td>0</td>\n",
              "      <td>29182</td>\n",
              "      <td>100.000</td>\n",
              "      <td>0</td>\n",
              "      <td>0.000</td>\n",
              "      <td>float64</td>\n",
              "      <td>NaN</td>\n",
              "      <td>NaN</td>\n",
              "      <td>NaN</td>\n",
              "      <td>NaN</td>\n",
              "      <td>NaN</td>\n",
              "      <td>NaN</td>\n",
              "      <td>NaN</td>\n",
              "    </tr>\n",
              "    <tr>\n",
              "      <th>Company Status (Active/Inactive)</th>\n",
              "      <td>29182</td>\n",
              "      <td>0</td>\n",
              "      <td>0.000</td>\n",
              "      <td>1</td>\n",
              "      <td>0.003</td>\n",
              "      <td>object</td>\n",
              "      <td>NaN</td>\n",
              "      <td>NaN</td>\n",
              "      <td>NaN</td>\n",
              "      <td>NaN</td>\n",
              "      <td>NaN</td>\n",
              "      <td>NaN</td>\n",
              "      <td>NaN</td>\n",
              "    </tr>\n",
              "    <tr>\n",
              "      <th>Employees (Single Site)</th>\n",
              "      <td>16779</td>\n",
              "      <td>12403</td>\n",
              "      <td>42.502</td>\n",
              "      <td>227</td>\n",
              "      <td>0.778</td>\n",
              "      <td>float64</td>\n",
              "      <td>36.856</td>\n",
              "      <td>173.334</td>\n",
              "      <td>1.000</td>\n",
              "      <td>10.000</td>\n",
              "      <td>16.000</td>\n",
              "      <td>29.000</td>\n",
              "      <td>12000.000</td>\n",
              "    </tr>\n",
              "    <tr>\n",
              "      <th>Employees (Domestic Ultimate Total)</th>\n",
              "      <td>29103</td>\n",
              "      <td>79</td>\n",
              "      <td>0.271</td>\n",
              "      <td>380</td>\n",
              "      <td>1.302</td>\n",
              "      <td>float64</td>\n",
              "      <td>139.764</td>\n",
              "      <td>1118.939</td>\n",
              "      <td>1.000</td>\n",
              "      <td>4.000</td>\n",
              "      <td>16.000</td>\n",
              "      <td>60.000</td>\n",
              "      <td>80000.000</td>\n",
              "    </tr>\n",
              "    <tr>\n",
              "      <th>Employees (Global Ultimate Total)</th>\n",
              "      <td>26408</td>\n",
              "      <td>2774</td>\n",
              "      <td>9.506</td>\n",
              "      <td>2013</td>\n",
              "      <td>6.898</td>\n",
              "      <td>float64</td>\n",
              "      <td>6994.665</td>\n",
              "      <td>45394.620</td>\n",
              "      <td>1.000</td>\n",
              "      <td>4.000</td>\n",
              "      <td>15.000</td>\n",
              "      <td>100.000</td>\n",
              "      <td>2190000.000</td>\n",
              "    </tr>\n",
              "    <tr>\n",
              "      <th>Sales (Domestic Ultimate Total USD)</th>\n",
              "      <td>29182</td>\n",
              "      <td>0</td>\n",
              "      <td>0.000</td>\n",
              "      <td>8346</td>\n",
              "      <td>28.600</td>\n",
              "      <td>float64</td>\n",
              "      <td>752099211.696</td>\n",
              "      <td>10196356845.562</td>\n",
              "      <td>-150263100.000</td>\n",
              "      <td>1026308.000</td>\n",
              "      <td>2606644.000</td>\n",
              "      <td>21769689.750</td>\n",
              "      <td>318476400000.000</td>\n",
              "    </tr>\n",
              "    <tr>\n",
              "      <th>Sales (Global Ultimate Total USD)</th>\n",
              "      <td>29182</td>\n",
              "      <td>0</td>\n",
              "      <td>0.000</td>\n",
              "      <td>7574</td>\n",
              "      <td>25.954</td>\n",
              "      <td>float64</td>\n",
              "      <td>3931771384.010</td>\n",
              "      <td>21845885778.988</td>\n",
              "      <td>1.000</td>\n",
              "      <td>1026308.000</td>\n",
              "      <td>3259582.500</td>\n",
              "      <td>148225815.250</td>\n",
              "      <td>514000000000.000</td>\n",
              "    </tr>\n",
              "    <tr>\n",
              "      <th>Import/Export Status</th>\n",
              "      <td>6613</td>\n",
              "      <td>22569</td>\n",
              "      <td>77.339</td>\n",
              "      <td>3</td>\n",
              "      <td>0.010</td>\n",
              "      <td>object</td>\n",
              "      <td>NaN</td>\n",
              "      <td>NaN</td>\n",
              "      <td>NaN</td>\n",
              "      <td>NaN</td>\n",
              "      <td>NaN</td>\n",
              "      <td>NaN</td>\n",
              "      <td>NaN</td>\n",
              "    </tr>\n",
              "    <tr>\n",
              "      <th>Fiscal Year End</th>\n",
              "      <td>6737</td>\n",
              "      <td>22445</td>\n",
              "      <td>76.914</td>\n",
              "      <td>115</td>\n",
              "      <td>0.394</td>\n",
              "      <td>object</td>\n",
              "      <td>NaN</td>\n",
              "      <td>NaN</td>\n",
              "      <td>NaN</td>\n",
              "      <td>NaN</td>\n",
              "      <td>NaN</td>\n",
              "      <td>NaN</td>\n",
              "      <td>NaN</td>\n",
              "    </tr>\n",
              "    <tr>\n",
              "      <th>Global Ultimate Company</th>\n",
              "      <td>28668</td>\n",
              "      <td>514</td>\n",
              "      <td>1.761</td>\n",
              "      <td>14145</td>\n",
              "      <td>48.472</td>\n",
              "      <td>object</td>\n",
              "      <td>NaN</td>\n",
              "      <td>NaN</td>\n",
              "      <td>NaN</td>\n",
              "      <td>NaN</td>\n",
              "      <td>NaN</td>\n",
              "      <td>NaN</td>\n",
              "      <td>NaN</td>\n",
              "    </tr>\n",
              "    <tr>\n",
              "      <th>Global Ultimate Country</th>\n",
              "      <td>28659</td>\n",
              "      <td>523</td>\n",
              "      <td>1.792</td>\n",
              "      <td>74</td>\n",
              "      <td>0.254</td>\n",
              "      <td>object</td>\n",
              "      <td>NaN</td>\n",
              "      <td>NaN</td>\n",
              "      <td>NaN</td>\n",
              "      <td>NaN</td>\n",
              "      <td>NaN</td>\n",
              "      <td>NaN</td>\n",
              "      <td>NaN</td>\n",
              "    </tr>\n",
              "    <tr>\n",
              "      <th>Domestic Ultimate Company</th>\n",
              "      <td>28147</td>\n",
              "      <td>1035</td>\n",
              "      <td>3.547</td>\n",
              "      <td>15597</td>\n",
              "      <td>53.447</td>\n",
              "      <td>object</td>\n",
              "      <td>NaN</td>\n",
              "      <td>NaN</td>\n",
              "      <td>NaN</td>\n",
              "      <td>NaN</td>\n",
              "      <td>NaN</td>\n",
              "      <td>NaN</td>\n",
              "      <td>NaN</td>\n",
              "    </tr>\n",
              "    <tr>\n",
              "      <th>Is Domestic Ultimate</th>\n",
              "      <td>29182</td>\n",
              "      <td>0</td>\n",
              "      <td>0.000</td>\n",
              "      <td>2</td>\n",
              "      <td>0.007</td>\n",
              "      <td>float64</td>\n",
              "      <td>0.500</td>\n",
              "      <td>0.500</td>\n",
              "      <td>0.000</td>\n",
              "      <td>0.000</td>\n",
              "      <td>1.000</td>\n",
              "      <td>1.000</td>\n",
              "      <td>1.000</td>\n",
              "    </tr>\n",
              "    <tr>\n",
              "      <th>Is Global Ultimate</th>\n",
              "      <td>29182</td>\n",
              "      <td>0</td>\n",
              "      <td>0.000</td>\n",
              "      <td>2</td>\n",
              "      <td>0.007</td>\n",
              "      <td>float64</td>\n",
              "      <td>0.257</td>\n",
              "      <td>0.437</td>\n",
              "      <td>0.000</td>\n",
              "      <td>0.000</td>\n",
              "      <td>0.000</td>\n",
              "      <td>1.000</td>\n",
              "      <td>1.000</td>\n",
              "    </tr>\n",
              "  </tbody>\n",
              "</table>\n",
              "</div>\n",
              "    <div class=\"colab-df-buttons\">\n",
              "\n",
              "  <div class=\"colab-df-container\">\n",
              "    <button class=\"colab-df-convert\" onclick=\"convertToInteractive('df-4de079fb-93a2-4b10-80ea-30c9d5a3f431')\"\n",
              "            title=\"Convert this dataframe to an interactive table.\"\n",
              "            style=\"display:none;\">\n",
              "\n",
              "  <svg xmlns=\"http://www.w3.org/2000/svg\" height=\"24px\" viewBox=\"0 -960 960 960\">\n",
              "    <path d=\"M120-120v-720h720v720H120Zm60-500h600v-160H180v160Zm220 220h160v-160H400v160Zm0 220h160v-160H400v160ZM180-400h160v-160H180v160Zm440 0h160v-160H620v160ZM180-180h160v-160H180v160Zm440 0h160v-160H620v160Z\"/>\n",
              "  </svg>\n",
              "    </button>\n",
              "\n",
              "  <style>\n",
              "    .colab-df-container {\n",
              "      display:flex;\n",
              "      gap: 12px;\n",
              "    }\n",
              "\n",
              "    .colab-df-convert {\n",
              "      background-color: #E8F0FE;\n",
              "      border: none;\n",
              "      border-radius: 50%;\n",
              "      cursor: pointer;\n",
              "      display: none;\n",
              "      fill: #1967D2;\n",
              "      height: 32px;\n",
              "      padding: 0 0 0 0;\n",
              "      width: 32px;\n",
              "    }\n",
              "\n",
              "    .colab-df-convert:hover {\n",
              "      background-color: #E2EBFA;\n",
              "      box-shadow: 0px 1px 2px rgba(60, 64, 67, 0.3), 0px 1px 3px 1px rgba(60, 64, 67, 0.15);\n",
              "      fill: #174EA6;\n",
              "    }\n",
              "\n",
              "    .colab-df-buttons div {\n",
              "      margin-bottom: 4px;\n",
              "    }\n",
              "\n",
              "    [theme=dark] .colab-df-convert {\n",
              "      background-color: #3B4455;\n",
              "      fill: #D2E3FC;\n",
              "    }\n",
              "\n",
              "    [theme=dark] .colab-df-convert:hover {\n",
              "      background-color: #434B5C;\n",
              "      box-shadow: 0px 1px 3px 1px rgba(0, 0, 0, 0.15);\n",
              "      filter: drop-shadow(0px 1px 2px rgba(0, 0, 0, 0.3));\n",
              "      fill: #FFFFFF;\n",
              "    }\n",
              "  </style>\n",
              "\n",
              "    <script>\n",
              "      const buttonEl =\n",
              "        document.querySelector('#df-4de079fb-93a2-4b10-80ea-30c9d5a3f431 button.colab-df-convert');\n",
              "      buttonEl.style.display =\n",
              "        google.colab.kernel.accessAllowed ? 'block' : 'none';\n",
              "\n",
              "      async function convertToInteractive(key) {\n",
              "        const element = document.querySelector('#df-4de079fb-93a2-4b10-80ea-30c9d5a3f431');\n",
              "        const dataTable =\n",
              "          await google.colab.kernel.invokeFunction('convertToInteractive',\n",
              "                                                    [key], {});\n",
              "        if (!dataTable) return;\n",
              "\n",
              "        const docLinkHtml = 'Like what you see? Visit the ' +\n",
              "          '<a target=\"_blank\" href=https://colab.research.google.com/notebooks/data_table.ipynb>data table notebook</a>'\n",
              "          + ' to learn more about interactive tables.';\n",
              "        element.innerHTML = '';\n",
              "        dataTable['output_type'] = 'display_data';\n",
              "        await google.colab.output.renderOutput(dataTable, element);\n",
              "        const docLink = document.createElement('div');\n",
              "        docLink.innerHTML = docLinkHtml;\n",
              "        element.appendChild(docLink);\n",
              "      }\n",
              "    </script>\n",
              "  </div>\n",
              "\n",
              "\n",
              "<div id=\"df-4d3f66da-4bef-4f79-8f0e-4196cb282a0b\">\n",
              "  <button class=\"colab-df-quickchart\" onclick=\"quickchart('df-4d3f66da-4bef-4f79-8f0e-4196cb282a0b')\"\n",
              "            title=\"Suggest charts\"\n",
              "            style=\"display:none;\">\n",
              "\n",
              "<svg xmlns=\"http://www.w3.org/2000/svg\" height=\"24px\"viewBox=\"0 0 24 24\"\n",
              "     width=\"24px\">\n",
              "    <g>\n",
              "        <path d=\"M19 3H5c-1.1 0-2 .9-2 2v14c0 1.1.9 2 2 2h14c1.1 0 2-.9 2-2V5c0-1.1-.9-2-2-2zM9 17H7v-7h2v7zm4 0h-2V7h2v10zm4 0h-2v-4h2v4z\"/>\n",
              "    </g>\n",
              "</svg>\n",
              "  </button>\n",
              "\n",
              "<style>\n",
              "  .colab-df-quickchart {\n",
              "      --bg-color: #E8F0FE;\n",
              "      --fill-color: #1967D2;\n",
              "      --hover-bg-color: #E2EBFA;\n",
              "      --hover-fill-color: #174EA6;\n",
              "      --disabled-fill-color: #AAA;\n",
              "      --disabled-bg-color: #DDD;\n",
              "  }\n",
              "\n",
              "  [theme=dark] .colab-df-quickchart {\n",
              "      --bg-color: #3B4455;\n",
              "      --fill-color: #D2E3FC;\n",
              "      --hover-bg-color: #434B5C;\n",
              "      --hover-fill-color: #FFFFFF;\n",
              "      --disabled-bg-color: #3B4455;\n",
              "      --disabled-fill-color: #666;\n",
              "  }\n",
              "\n",
              "  .colab-df-quickchart {\n",
              "    background-color: var(--bg-color);\n",
              "    border: none;\n",
              "    border-radius: 50%;\n",
              "    cursor: pointer;\n",
              "    display: none;\n",
              "    fill: var(--fill-color);\n",
              "    height: 32px;\n",
              "    padding: 0;\n",
              "    width: 32px;\n",
              "  }\n",
              "\n",
              "  .colab-df-quickchart:hover {\n",
              "    background-color: var(--hover-bg-color);\n",
              "    box-shadow: 0 1px 2px rgba(60, 64, 67, 0.3), 0 1px 3px 1px rgba(60, 64, 67, 0.15);\n",
              "    fill: var(--button-hover-fill-color);\n",
              "  }\n",
              "\n",
              "  .colab-df-quickchart-complete:disabled,\n",
              "  .colab-df-quickchart-complete:disabled:hover {\n",
              "    background-color: var(--disabled-bg-color);\n",
              "    fill: var(--disabled-fill-color);\n",
              "    box-shadow: none;\n",
              "  }\n",
              "\n",
              "  .colab-df-spinner {\n",
              "    border: 2px solid var(--fill-color);\n",
              "    border-color: transparent;\n",
              "    border-bottom-color: var(--fill-color);\n",
              "    animation:\n",
              "      spin 1s steps(1) infinite;\n",
              "  }\n",
              "\n",
              "  @keyframes spin {\n",
              "    0% {\n",
              "      border-color: transparent;\n",
              "      border-bottom-color: var(--fill-color);\n",
              "      border-left-color: var(--fill-color);\n",
              "    }\n",
              "    20% {\n",
              "      border-color: transparent;\n",
              "      border-left-color: var(--fill-color);\n",
              "      border-top-color: var(--fill-color);\n",
              "    }\n",
              "    30% {\n",
              "      border-color: transparent;\n",
              "      border-left-color: var(--fill-color);\n",
              "      border-top-color: var(--fill-color);\n",
              "      border-right-color: var(--fill-color);\n",
              "    }\n",
              "    40% {\n",
              "      border-color: transparent;\n",
              "      border-right-color: var(--fill-color);\n",
              "      border-top-color: var(--fill-color);\n",
              "    }\n",
              "    60% {\n",
              "      border-color: transparent;\n",
              "      border-right-color: var(--fill-color);\n",
              "    }\n",
              "    80% {\n",
              "      border-color: transparent;\n",
              "      border-right-color: var(--fill-color);\n",
              "      border-bottom-color: var(--fill-color);\n",
              "    }\n",
              "    90% {\n",
              "      border-color: transparent;\n",
              "      border-bottom-color: var(--fill-color);\n",
              "    }\n",
              "  }\n",
              "</style>\n",
              "\n",
              "  <script>\n",
              "    async function quickchart(key) {\n",
              "      const quickchartButtonEl =\n",
              "        document.querySelector('#' + key + ' button');\n",
              "      quickchartButtonEl.disabled = true;  // To prevent multiple clicks.\n",
              "      quickchartButtonEl.classList.add('colab-df-spinner');\n",
              "      try {\n",
              "        const charts = await google.colab.kernel.invokeFunction(\n",
              "            'suggestCharts', [key], {});\n",
              "      } catch (error) {\n",
              "        console.error('Error during call to suggestCharts:', error);\n",
              "      }\n",
              "      quickchartButtonEl.classList.remove('colab-df-spinner');\n",
              "      quickchartButtonEl.classList.add('colab-df-quickchart-complete');\n",
              "    }\n",
              "    (() => {\n",
              "      let quickchartButtonEl =\n",
              "        document.querySelector('#df-4d3f66da-4bef-4f79-8f0e-4196cb282a0b button');\n",
              "      quickchartButtonEl.style.display =\n",
              "        google.colab.kernel.accessAllowed ? 'block' : 'none';\n",
              "    })();\n",
              "  </script>\n",
              "</div>\n",
              "\n",
              "  <div id=\"id_9bf4fe5e-2a35-4f08-88cd-a65825e86a32\">\n",
              "    <style>\n",
              "      .colab-df-generate {\n",
              "        background-color: #E8F0FE;\n",
              "        border: none;\n",
              "        border-radius: 50%;\n",
              "        cursor: pointer;\n",
              "        display: none;\n",
              "        fill: #1967D2;\n",
              "        height: 32px;\n",
              "        padding: 0 0 0 0;\n",
              "        width: 32px;\n",
              "      }\n",
              "\n",
              "      .colab-df-generate:hover {\n",
              "        background-color: #E2EBFA;\n",
              "        box-shadow: 0px 1px 2px rgba(60, 64, 67, 0.3), 0px 1px 3px 1px rgba(60, 64, 67, 0.15);\n",
              "        fill: #174EA6;\n",
              "      }\n",
              "\n",
              "      [theme=dark] .colab-df-generate {\n",
              "        background-color: #3B4455;\n",
              "        fill: #D2E3FC;\n",
              "      }\n",
              "\n",
              "      [theme=dark] .colab-df-generate:hover {\n",
              "        background-color: #434B5C;\n",
              "        box-shadow: 0px 1px 3px 1px rgba(0, 0, 0, 0.15);\n",
              "        filter: drop-shadow(0px 1px 2px rgba(0, 0, 0, 0.3));\n",
              "        fill: #FFFFFF;\n",
              "      }\n",
              "    </style>\n",
              "    <button class=\"colab-df-generate\" onclick=\"generateWithVariable('desc')\"\n",
              "            title=\"Generate code using this dataframe.\"\n",
              "            style=\"display:none;\">\n",
              "\n",
              "  <svg xmlns=\"http://www.w3.org/2000/svg\" height=\"24px\"viewBox=\"0 0 24 24\"\n",
              "       width=\"24px\">\n",
              "    <path d=\"M7,19H8.4L18.45,9,17,7.55,7,17.6ZM5,21V16.75L18.45,3.32a2,2,0,0,1,2.83,0l1.4,1.43a1.91,1.91,0,0,1,.58,1.4,1.91,1.91,0,0,1-.58,1.4L9.25,21ZM18.45,9,17,7.55Zm-12,3A5.31,5.31,0,0,0,4.9,8.1,5.31,5.31,0,0,0,1,6.5,5.31,5.31,0,0,0,4.9,4.9,5.31,5.31,0,0,0,6.5,1,5.31,5.31,0,0,0,8.1,4.9,5.31,5.31,0,0,0,12,6.5,5.46,5.46,0,0,0,6.5,12Z\"/>\n",
              "  </svg>\n",
              "    </button>\n",
              "    <script>\n",
              "      (() => {\n",
              "      const buttonEl =\n",
              "        document.querySelector('#id_9bf4fe5e-2a35-4f08-88cd-a65825e86a32 button.colab-df-generate');\n",
              "      buttonEl.style.display =\n",
              "        google.colab.kernel.accessAllowed ? 'block' : 'none';\n",
              "\n",
              "      buttonEl.onclick = () => {\n",
              "        google.colab.notebook.generateWithVariable('desc');\n",
              "      }\n",
              "      })();\n",
              "    </script>\n",
              "  </div>\n",
              "\n",
              "    </div>\n",
              "  </div>\n"
            ]
          },
          "metadata": {},
          "execution_count": 5
        }
      ]
    },
    {
      "cell_type": "markdown",
      "source": [
        "## RF"
      ],
      "metadata": {
        "id": "aB4ZXPYmm3Pk"
      }
    },
    {
      "cell_type": "code",
      "source": [
        "df_tmp = df.drop([\"Square Footage\", \"Import/Export Status\", \"Fiscal Year End\"], axis=1)\n",
        "df_tmp = df_tmp.dropna()\n",
        "df_tmp = df_tmp.select_dtypes(include=np.number)\n",
        "\n",
        "X = df_tmp.drop(\"Sales (Domestic Ultimate Total USD)\", axis=1)\n",
        "y = df_tmp[\"Sales (Domestic Ultimate Total USD)\"]\n",
        "\n",
        "cat_features = list(X.select_dtypes(include=[\"category\", \"object\"]).columns)\n",
        "print(cat_features)\n",
        "\n",
        "cat = CatBoostRegressor(cat_features=cat_features, verbose=0)\n",
        "\n",
        "cat.fit(X, y)"
      ],
      "metadata": {
        "colab": {
          "base_uri": "https://localhost:8080/"
        },
        "id": "7D_fGa2QQf_p",
        "outputId": "fab42117-c8c6-4faa-ca1d-8f172f000a5a"
      },
      "execution_count": null,
      "outputs": [
        {
          "output_type": "stream",
          "name": "stdout",
          "text": [
            "[]\n"
          ]
        },
        {
          "output_type": "execute_result",
          "data": {
            "text/plain": [
              "<catboost.core.CatBoostRegressor at 0x7f67b2934d90>"
            ]
          },
          "metadata": {},
          "execution_count": 6
        }
      ]
    },
    {
      "cell_type": "code",
      "source": [
        "X_train, X_test, y_train, y_test = train_test_split(X, y, test_size=0.2)\n",
        "cat = CatBoostRegressor(cat_features=cat_features, verbose=0)\n",
        "\n",
        "cat.fit(X_train, y_train)"
      ],
      "metadata": {
        "colab": {
          "base_uri": "https://localhost:8080/"
        },
        "id": "Whbup2hvRH2J",
        "outputId": "908c363a-83b2-4e53-a6d6-9c1ad215ad87"
      },
      "execution_count": null,
      "outputs": [
        {
          "output_type": "execute_result",
          "data": {
            "text/plain": [
              "<catboost.core.CatBoostRegressor at 0x7f67b4265750>"
            ]
          },
          "metadata": {},
          "execution_count": 16
        }
      ]
    },
    {
      "cell_type": "code",
      "source": [
        "r2_score(y_test, cat.predict(X_test))\n",
        "# r2_score(y_train, cat.predict(X_train))"
      ],
      "metadata": {
        "colab": {
          "base_uri": "https://localhost:8080/"
        },
        "id": "75KsjawfRomV",
        "outputId": "e589a1d1-d665-43ad-b591-4ac818bc6887"
      },
      "execution_count": null,
      "outputs": [
        {
          "output_type": "execute_result",
          "data": {
            "text/plain": [
              "-0.46253119692495415"
            ]
          },
          "metadata": {},
          "execution_count": 17
        }
      ]
    },
    {
      "cell_type": "code",
      "source": [
        "from sklearn.ensemble import RandomForestRegressor\n",
        "\n",
        "df_tmp = df.drop([\"Square Footage\", \"Import/Export Status\", \"Fiscal Year End\"], axis=1)\n",
        "df_tmp = df_tmp.dropna()\n",
        "df_tmp = df_tmp.select_dtypes(include=np.number)\n",
        "\n",
        "X = df_tmp.drop(\"Sales (Domestic Ultimate Total USD)\", axis=1)\n",
        "y = df_tmp[\"Sales (Domestic Ultimate Total USD)\"]\n",
        "rf = RandomForestRegressor()\n",
        "rf.fit(X, y)"
      ],
      "metadata": {
        "id": "LLVIHj1Vkv8u"
      },
      "execution_count": null,
      "outputs": []
    },
    {
      "cell_type": "code",
      "source": [
        "# prompt: plot feature importance of rf\n",
        "plt.figure(figsize=(15, 10))\n",
        "sns.barplot(x=rf.feature_importances_, y=X.columns)\n",
        "plt.show()"
      ],
      "metadata": {
        "id": "R-5-rzH7mABv"
      },
      "execution_count": null,
      "outputs": []
    },
    {
      "cell_type": "markdown",
      "metadata": {
        "id": "jIFpeIrTrigs"
      },
      "source": [
        "## 1.2 Processing Data\n"
      ]
    },
    {
      "cell_type": "markdown",
      "source": [
        "#### Drop NaN Values\n",
        "- We choose to drop rows without latitude and longitude coordinates as they only form a very small part of our dataset."
      ],
      "metadata": {
        "id": "YbrfUeInu916"
      }
    },
    {
      "cell_type": "markdown",
      "metadata": {
        "id": "Baq-6cIkrigs"
      },
      "source": [
        "#### One-Hot Encoding\n",
        "We will also handle categorical variables by performing one-hot encoding on all columns with important categories as values. This is done by using the pd.get_dummies function.\n",
        "\n",
        "An alternative approach using the LabelEncoder from scikit-learn is also demonstrated.\n",
        "\n",
        "- Be cautious about the Curse of Dimensionality!"
      ]
    },
    {
      "cell_type": "code",
      "execution_count": null,
      "metadata": {
        "id": "QTht1wXyrigs"
      },
      "outputs": [],
      "source": [
        "# Remove rows where the Company Status is 'Inactive'\n",
        "df = df[df['Company Status (Active/Inactive)'] == 'Active']"
      ]
    },
    {
      "cell_type": "code",
      "execution_count": null,
      "metadata": {
        "id": "gWJVCYBYrigt"
      },
      "outputs": [],
      "source": [
        "# to ensure important info isnt being lost\n",
        "df['Import/Export Status_Missing'] = df['Import/Export Status'].isna()\n",
        "\n",
        "df3 = df.dropna(subset=[\"Employees (Single Site)\", \"Employees (Domestic Ultimate Total)\", \"Employees (Global Ultimate Total)\",\n",
        "                                       \"Year Found\"])\n",
        "\n",
        "df3 = pd.get_dummies(df3, columns=['Entity Type'], prefix='Entity_Type')\n",
        "df3 = pd.get_dummies(df3, columns=['Ownership Type'], prefix='Ownership_Type')\n",
        "df3 = pd.get_dummies(df3, columns=['Import/Export Status'], prefix='Import_Export_Status')\n",
        "df3 = df3.drop(columns=[col for col in [\"Company Status (Active/Inactive)\", \"Entity Type\", 'Import/Export Status', 'Ownership Type'] if col in df3.columns], errors='ignore') # are all Active]\n",
        "\n",
        "\n"
      ]
    },
    {
      "cell_type": "code",
      "execution_count": null,
      "metadata": {
        "id": "ZIby1Uqarigt"
      },
      "outputs": [],
      "source": [
        "# Check the number of null values\n",
        "df3.isna().sum()"
      ]
    },
    {
      "cell_type": "code",
      "execution_count": null,
      "metadata": {
        "id": "ajhgiLo3rigt"
      },
      "outputs": [],
      "source": [
        "# Find the frequency of each industry\n",
        "sic_code_frequency = df3['SIC Code'].value_counts()\n",
        "\n",
        "# Set a threshold for low-frequency SIC Codes\n",
        "threshold = 7  # Adjust this threshold based on your preference\n",
        "\n",
        "# Identify SIC Codes with frequency below the threshold\n",
        "low_frequency_sic_codes = sic_code_frequency[sic_code_frequency < threshold].index\n",
        "\n",
        "# Replace these low-frequency SIC Codes with a common label \"Others\"\n",
        "df3['SIC Code'] = df3['SIC Code'].replace(low_frequency_sic_codes, 'Others')\n",
        "\n",
        "sic_code_frequency1 = df3['SIC Code'].value_counts()\n",
        "\n",
        "# Display the updated DataFrame\n",
        "print(sic_code_frequency1)"
      ]
    },
    {
      "cell_type": "code",
      "execution_count": null,
      "metadata": {
        "id": "RgduaWCCrigt"
      },
      "outputs": [],
      "source": [
        "# convert to str cus we dont want it to be trained as a numeric value\n",
        "# Convert the entire column to a common data type (string in this case)\n",
        "df3['SIC Code'] = df3['SIC Code'].astype(str)"
      ]
    },
    {
      "cell_type": "markdown",
      "metadata": {
        "id": "3hBS7Umyrigt"
      },
      "source": [
        "The alternative approach to encoding is indicated below to deal with SIC Codes.\n",
        "\n",
        "For more information on SIC Codes, visit the site here: https://www.sec.gov/corpfin/division-of-corporation-finance-standard-industrial-classification-sic-code-list"
      ]
    },
    {
      "cell_type": "code",
      "execution_count": null,
      "metadata": {
        "id": "Pc2NBABirigt"
      },
      "outputs": [],
      "source": [
        "from sklearn.preprocessing import LabelEncoder"
      ]
    },
    {
      "cell_type": "code",
      "execution_count": null,
      "metadata": {
        "id": "AmkEv-_drigt"
      },
      "outputs": [],
      "source": [
        "# Use label encoding for 'SIC Code'\n",
        "label_encoder = LabelEncoder()\n",
        "df3['SIC Code'] = label_encoder.fit_transform(df3['SIC Code'])"
      ]
    },
    {
      "cell_type": "code",
      "execution_count": null,
      "metadata": {
        "id": "qqn49L29rigt"
      },
      "outputs": [],
      "source": [
        "df3[\"SIC Code\"].unique()"
      ]
    },
    {
      "cell_type": "markdown",
      "source": [
        "# 2. EDA\n",
        "\n",
        "We will now proceed to analyze and visualize a subset of our data to gain some rough insight into how inputs in our data are related to our outputs."
      ],
      "metadata": {
        "id": "9jRIvPwCvOUG"
      }
    },
    {
      "cell_type": "markdown",
      "metadata": {
        "id": "1lvR3_nirigt"
      },
      "source": [
        "## 2.1. Plotting Graphs\n",
        "\n",
        "### Correlation Matrix\n",
        "\n",
        "We will first use a Correlation Matrix to observe how a variable in the dataset are affected by other variables."
      ]
    },
    {
      "cell_type": "code",
      "execution_count": null,
      "metadata": {
        "id": "0eL5ISTxrigu"
      },
      "outputs": [],
      "source": [
        "plt.figure(figsize=(15, 15))\n",
        "sns.heatmap(df.corr(numeric_only=True), square=True, annot=True)"
      ]
    },
    {
      "cell_type": "markdown",
      "source": [
        "### Geospatial Analysis"
      ],
      "metadata": {
        "id": "zNdfKw5YsWsp"
      }
    },
    {
      "cell_type": "code",
      "source": [],
      "metadata": {
        "id": "S3EnADY4sbcc"
      },
      "execution_count": null,
      "outputs": []
    },
    {
      "cell_type": "markdown",
      "source": [
        "### AccountID\n",
        "No clear pattern -> Drop"
      ],
      "metadata": {
        "id": "hZks3opttDuX"
      }
    },
    {
      "cell_type": "code",
      "source": [
        "df[\"AccountID\"]"
      ],
      "metadata": {
        "id": "TPQkzP5YtMAr"
      },
      "execution_count": null,
      "outputs": []
    },
    {
      "cell_type": "markdown",
      "source": [
        "### \"Company\" features\n"
      ],
      "metadata": {
        "id": "l7K3135KtoKx"
      }
    },
    {
      "cell_type": "code",
      "source": [
        "# Company\tParent Company Company Description Global Ultimate Company Domestic Ultimate Company\n",
        "df[[\"Company\", \"Parent Company\", \"Company Description\", \"Global Ultimate Company\", \"Domestic Ultimate Company\"]]\n",
        "# df.loc[0, \"Company Description\"]"
      ],
      "metadata": {
        "id": "b2-zP-ilt_gR"
      },
      "execution_count": null,
      "outputs": []
    },
    {
      "cell_type": "code",
      "source": [
        "df[\"Parent Company\"].value_counts()"
      ],
      "metadata": {
        "id": "fXDg-z-7vYNy"
      },
      "execution_count": null,
      "outputs": []
    },
    {
      "cell_type": "code",
      "source": [
        "# Find the frequency of each parent company\n",
        "par_freq = df[\"Parent Company\"].value_counts()\n",
        "\n",
        "# Set a threshold for low-frequency SIC Codes\n",
        "threshold = 15  # Adjust this threshold based on your preference\n",
        "\n",
        "# Identify SIC Codes with frequency below the threshold\n",
        "low_frequency_par = par_freq[par_freq < threshold].index\n",
        "\n",
        "df2 = df.copy()\n",
        "# Replace these low-frequency SIC Codes with a common label \"Others\"\n",
        "df2[\"Parent Company\"] = df2[\"Parent Company\"].replace(low_frequency_par, 'Others')\n",
        "\n",
        "df2[\"Parent Company\"].value_counts()"
      ],
      "metadata": {
        "id": "xCx7x51cwjtd"
      },
      "execution_count": null,
      "outputs": []
    },
    {
      "cell_type": "code",
      "source": [
        "# mean_sale_by_par = df2.groupby(\"Parent Company\")[\"Sales (Domestic Ultimate Total USD)\"].mean()\n",
        "# df2[\"Sales (Domestic Ultimate Total USD)\"] = np.log(df2[\"Sales (Domestic Ultimate Total USD)\"])\n",
        "plt.figure(figsize=(15, 10))\n",
        "plt.scatter(data=df2[df2[\"Parent Company\"] != \"Others\"], x=\"Sales (Domestic Ultimate Total USD)\", y=\"Parent Company\")"
      ],
      "metadata": {
        "id": "ob94vis7xjeL"
      },
      "execution_count": null,
      "outputs": []
    },
    {
      "cell_type": "markdown",
      "source": [
        "### Industry"
      ],
      "metadata": {
        "id": "ukZCJCrJ1DHy"
      }
    },
    {
      "cell_type": "code",
      "source": [
        "df2 = df.copy()\n",
        "# Find the frequency of each industry\n",
        "sic_code_frequency = df2['Industry'].value_counts()\n",
        "\n",
        "# Set a threshold for low-frequency SIC Codes\n",
        "threshold = 10  # Adjust this threshold based on your preference\n",
        "\n",
        "# Identify SIC Codes with frequency below the threshold\n",
        "low_frequency_sic_codes = sic_code_frequency[sic_code_frequency < threshold].index\n",
        "\n",
        "# Replace these low-frequency SIC Codes with a common label \"Others\"\n",
        "df2['Industry'] = df2['Industry'].replace(low_frequency_sic_codes, 'Others')\n",
        "\n",
        "df2['Industry'].value_counts()"
      ],
      "metadata": {
        "id": "_yYHCRm71W6j"
      },
      "execution_count": null,
      "outputs": []
    },
    {
      "cell_type": "code",
      "source": [
        "largest_industries = df2[\"Industry\"].value_counts()[:10].index\n",
        "sns.barplot(data=df2[df2[\"Industry\"].isin(largest_industries)], y=\"Industry\", x=\"Sales (Domestic Ultimate Total USD)\")"
      ],
      "metadata": {
        "id": "6k0ARQiQ10X7"
      },
      "execution_count": null,
      "outputs": []
    },
    {
      "cell_type": "markdown",
      "source": [
        "### Year Found\n",
        "\n",
        "Rac"
      ],
      "metadata": {
        "id": "471opgrG5YDN"
      }
    },
    {
      "cell_type": "markdown",
      "source": [
        "### Entity Type"
      ],
      "metadata": {
        "id": "MV1twj7X5x69"
      }
    },
    {
      "cell_type": "code",
      "source": [
        "df[\"Entity Type\"].value_counts()"
      ],
      "metadata": {
        "id": "mW1CgMJFGE-K"
      },
      "execution_count": null,
      "outputs": []
    },
    {
      "cell_type": "code",
      "source": [
        "sns.barplot(data=df, y=\"Entity Type\", x=\"Sales (Domestic Ultimate Total USD)\")"
      ],
      "metadata": {
        "id": "4AsPP6vJ55gn"
      },
      "execution_count": null,
      "outputs": []
    },
    {
      "cell_type": "markdown",
      "source": [
        "### Parent Country and Global Ultimate Country"
      ],
      "metadata": {
        "id": "ylQqIkn_6WDK"
      }
    },
    {
      "cell_type": "code",
      "source": [
        "df2 = df.copy()\n",
        "# Find the frequency of each industry\n",
        "pc_frequency = df2['Parent Country'].value_counts()\n",
        "guc_frequency = df2['Global Ultimate Country'].value_counts()\n",
        "\n",
        "# Set a threshold for low-frequency SIC Codes\n",
        "threshold = 10  # Adjust this threshold based on your preference\n",
        "\n",
        "# Identify SIC Codes with frequency below the threshold\n",
        "low_frequency_pc = pc_frequency[pc_frequency < threshold].index\n",
        "low_frequency_guc = guc_frequency[guc_frequency < threshold].index\n",
        "\n",
        "# Replace these low-frequency SIC Codes with a common label \"Others\"\n",
        "df2['Parent Country'] = df2['Parent Country'].replace(low_frequency_pc, 'Others')\n",
        "df2['Global Ultimate Countryy'] = df2['Global Ultimate Country'].replace(low_frequency_guc, 'Others')\n",
        "\n",
        "display(df2['Parent Country'].value_counts())\n",
        "display(df2['Global Ultimate Country'].value_counts())"
      ],
      "metadata": {
        "id": "OA-SYwnw60I_"
      },
      "execution_count": null,
      "outputs": []
    },
    {
      "cell_type": "markdown",
      "source": [
        "### Ownership Type\n"
      ],
      "metadata": {
        "id": "562q7csH7z3I"
      }
    },
    {
      "cell_type": "code",
      "source": [
        "sns.barplot(data=df, y=\"Ownership Type\", x=\"Sales (Domestic Ultimate Total USD)\")"
      ],
      "metadata": {
        "id": "LuOH7F5472ZI"
      },
      "execution_count": null,
      "outputs": []
    },
    {
      "cell_type": "markdown",
      "source": [
        "### Employees\n",
        "Rac"
      ],
      "metadata": {
        "id": "gtDG2MEC9hIy"
      }
    },
    {
      "cell_type": "markdown",
      "source": [
        "### Sales (Global Ultimate Total USD)"
      ],
      "metadata": {
        "id": "NDPSTOvF9kEL"
      }
    },
    {
      "cell_type": "code",
      "source": [
        "\n",
        "sns.scatterplot(data=df, x=\"Sales (Global Ultimate Total USD)\", y=\"Sales (Domestic Ultimate Total USD)\")\n",
        "plt.xscale('log')\n",
        "plt.yscale('log')"
      ],
      "metadata": {
        "id": "i_9RdmvM9rbJ"
      },
      "execution_count": null,
      "outputs": []
    },
    {
      "cell_type": "markdown",
      "source": [
        "### Import/Export Status"
      ],
      "metadata": {
        "id": "x3ghYtgW-WQR"
      }
    },
    {
      "cell_type": "code",
      "source": [
        "df2 = df.copy()\n",
        "df2.loc[df2[\"Import/Export Status\"].isna(), \"Import/Export Status\"] = \"Missing\"\n",
        "df2[\"Import/Export Status\"].value_counts()"
      ],
      "metadata": {
        "id": "wuIHe__z-fMR"
      },
      "execution_count": null,
      "outputs": []
    },
    {
      "cell_type": "code",
      "source": [
        "sns.barplot(data=df2, y=\"Import/Export Status\", x=\"Sales (Domestic Ultimate Total USD)\")"
      ],
      "metadata": {
        "id": "bM37BZ9e_fK7"
      },
      "execution_count": null,
      "outputs": []
    },
    {
      "cell_type": "markdown",
      "source": [
        "### Fiscal Year End\n"
      ],
      "metadata": {
        "id": "eWRqRBIzAQ_L"
      }
    },
    {
      "cell_type": "code",
      "source": [
        "df[\"Fiscal Year End\"].value_counts()"
      ],
      "metadata": {
        "id": "AH5dE3T4AS41"
      },
      "execution_count": null,
      "outputs": []
    },
    {
      "cell_type": "markdown",
      "source": [
        "### Is Domestic Ultimate and Is Global Ultimate"
      ],
      "metadata": {
        "id": "0ExDqBtqArdE"
      }
    },
    {
      "cell_type": "code",
      "source": [
        "df2 = df.copy()\n",
        "df2[\"Is Domestic Ultimate\"] = df2[\"Is Domestic Ultimate\"].astype('category')\n",
        "df2[\"Is Global Ultimate\"] = df2[\"Is Global Ultimate\"].astype('category')\n",
        "display(df2[\"Is Domestic Ultimate\"].value_counts())\n",
        "display(df2[\"Is Global Ultimate\"].value_counts())"
      ],
      "metadata": {
        "id": "X3M8IRVJCLQc"
      },
      "execution_count": null,
      "outputs": []
    },
    {
      "cell_type": "code",
      "source": [
        "sns.barplot(data=df2, y=\"Is Domestic Ultimate\", x=\"Sales (Domestic Ultimate Total USD)\")"
      ],
      "metadata": {
        "id": "JlieFLCoC8co"
      },
      "execution_count": null,
      "outputs": []
    },
    {
      "cell_type": "code",
      "source": [
        "sns.barplot(data=df2, y=\"Is Global Ultimate\", x=\"Sales (Domestic Ultimate Total USD)\")"
      ],
      "metadata": {
        "id": "vYQBQfBABPWc"
      },
      "execution_count": null,
      "outputs": []
    },
    {
      "cell_type": "markdown",
      "source": [
        "### Is Ultimate vs Entity Type"
      ],
      "metadata": {
        "id": "2iqAFVLsEQeL"
      }
    },
    {
      "cell_type": "code",
      "source": [
        "sns.barplot(data=df2, y=\"Entity Type\", x=\"Sales (Domestic Ultimate Total USD)\", hue=\"Is Domestic Ultimate\")"
      ],
      "metadata": {
        "id": "ZRv4RN4XDi0a"
      },
      "execution_count": null,
      "outputs": []
    },
    {
      "cell_type": "code",
      "source": [
        "sns.barplot(data=df2, y=\"Entity Type\", x=\"Sales (Domestic Ultimate Total USD)\", hue=\"Is Global Ultimate\")"
      ],
      "metadata": {
        "id": "pv91SaSUCsGM"
      },
      "execution_count": null,
      "outputs": []
    },
    {
      "cell_type": "markdown",
      "metadata": {
        "id": "6GGWckJerigu"
      },
      "source": [
        "## 2.2 Feature Selection\n",
        "We will remove features that are of the following:\n",
        "- seemingly irrelevant to affecting the output by domain knowledge;\n",
        "- Low/Zero-variance Factors.\n",
        "\n",
        "We will also filter our dataset to select only the rows of data we are interested in."
      ]
    },
    {
      "cell_type": "code",
      "execution_count": null,
      "metadata": {
        "id": "V6mnw_FQrigu"
      },
      "outputs": [],
      "source": [
        "# Specify columns to drop\n",
        "columns_to_drop = [\"error\", \"Fiscal Year End\", \"Sales (Global Ultimate Total USD)\", \"Global Ultimate Company\", \"Domestic Ultimate Company\", \"Web Address\",\n",
        "                   \"Sales (Global Ultimate Total USD)\", \"Square Footage\", \"Company Description\", \"PostCode\", \"8-Digit SIC Code\", \"8-Digit SIC Description\", \"AccountID\",\n",
        "                   \"Parent Company\", \"City\", \"Country\", \"Address\", \"Address1\", \"Industry\", \"Region\", \"Parent Country\", \"Global Ultimate Country\", \"Company\"]\n",
        "\n",
        "# Drop columns if they exist in the DataFrame\n",
        "df4 = df3.drop(columns=[col for col in columns_to_drop if col in df3.columns], errors='ignore')"
      ]
    },
    {
      "cell_type": "code",
      "execution_count": null,
      "metadata": {
        "id": "BAYGELA8rigu"
      },
      "outputs": [],
      "source": [
        "df4 = df4.dropna(subset=[\"Employees (Single Site)\", \"Employees (Domestic Ultimate Total)\", \"Employees (Global Ultimate Total)\",\n",
        "                                       \"Year Found\"])"
      ]
    },
    {
      "cell_type": "markdown",
      "metadata": {
        "id": "swT1dffirigv"
      },
      "source": [
        "### Data Type Conversion\n",
        "\n",
        "We will need to convert some columns into datatypes that are suitable for analysis. This makes sure that the values in these fields make sense."
      ]
    },
    {
      "cell_type": "code",
      "execution_count": null,
      "metadata": {
        "id": "KRnF8BO-rigv"
      },
      "outputs": [],
      "source": [
        "# Convert 'Is Domestic Ultimate' to True/False\n",
        "df4['Is Domestic Ultimate'] = df4['Is Domestic Ultimate'] == 1\n",
        "df4['Is Global Ultimate'] = df4['Is Global Ultimate'] == 1"
      ]
    },
    {
      "cell_type": "code",
      "source": [
        "df4.columns"
      ],
      "metadata": {
        "id": "luNLMIGNEYsa"
      },
      "execution_count": null,
      "outputs": []
    },
    {
      "cell_type": "markdown",
      "source": [
        "### 2.3. Preprocessing"
      ],
      "metadata": {
        "id": "B2cdrQclHhbr"
      }
    },
    {
      "cell_type": "code",
      "source": [
        "def clean(df):\n",
        "  chosen_cols = [\n",
        "    \"LATITUDE\",\n",
        "    \"LONGITUDE\",\n",
        "    # \"Industry\",\n",
        "    \"Entity Type\",\n",
        "    # \"Parent Country\",\n",
        "    # \"Global Ultimate Country\",\n",
        "    \"Ownership Type\",\n",
        "    \"Import/Export Status\",\n",
        "    \"Is Domestic Ultimate\",\n",
        "    \"Is Global Ultimate\",\n",
        "  ]\n",
        "\n",
        "  df = df.copy()\n",
        "  df = df[chosen_cols]\n",
        "\n",
        "  df.loc[df[\"Import/Export Status\"].isna(), \"Import/Export Status\"] = \"Missing\"\n",
        "\n",
        "  df = df.dropna()\n",
        "\n",
        "  return df"
      ],
      "metadata": {
        "id": "4cA7IgutHmsU"
      },
      "execution_count": null,
      "outputs": []
    },
    {
      "cell_type": "code",
      "source": [
        "def preprocess(df):\n",
        "  df = df.copy()\n",
        "  df = pd.get_dummies(df, columns=['Entity Type'], prefix='EntityType')\n",
        "  df = pd.get_dummies(df, columns=['Ownership Type'], prefix='OwnershipType')\n",
        "  df = pd.get_dummies(df, columns=['Import/Export Status'], prefix='ImportExport')\n",
        "  return df"
      ],
      "metadata": {
        "id": "SOGbdOveUsVU"
      },
      "execution_count": null,
      "outputs": []
    },
    {
      "cell_type": "code",
      "source": [
        "df_processed = clean(df)\n",
        "print(df_processed.shape)\n",
        "df_processed.head()"
      ],
      "metadata": {
        "id": "PgewtFKXHnzD"
      },
      "execution_count": null,
      "outputs": []
    },
    {
      "cell_type": "markdown",
      "source": [
        "## 3. Modelling"
      ],
      "metadata": {
        "id": "pd0OZVqXMX6I"
      }
    },
    {
      "cell_type": "code",
      "source": [
        "X = clean(df)\n",
        "y = df.loc[X.index, \"Sales (Domestic Ultimate Total USD)\"]\n",
        "\n",
        "X_train, X_test, y_train, y_test = train_test_split(X, y, test_size=0.2, random_state=SEED)"
      ],
      "metadata": {
        "id": "hhInwOgbMbOP"
      },
      "execution_count": null,
      "outputs": []
    },
    {
      "cell_type": "code",
      "source": [
        "# def cv_score(model, report_mean=True):\n",
        "#     FOLDS = 8\n",
        "#     kf = KFold(n_splits=FOLDS, shuffle=True, random_state=SEED)\n",
        "\n",
        "#     scores = []\n",
        "#     for fold, (train, test) in enumerate(kf.split(X, y)):\n",
        "#         X_train, X_test = X.iloc[train], X.iloc[test]\n",
        "#         y_train, y_test = y.iloc[train], y.iloc[test]\n",
        "\n",
        "#         y_pred = model.fit(X_train, y_train).predict_proba(X_test)\n",
        "#         scores.append(balanced_log_loss(y_test, y_pred))\n",
        "#     if report_mean:\n",
        "#         print(f\"CV: {np.mean(scores):.4f} ({np.std(scores):.4f})\")\n",
        "#     else:\n",
        "#         return scores\n",
        "\n",
        "def cv_score(model, preprocess):\n",
        "  FOLDS = 5\n",
        "  print(X_train.shape, y_train.shape)\n",
        "  X_processed = preprocess(X_train)\n",
        "  scores = cross_val_score(model, X_processed, y_train, cv=FOLDS, scoring='r2')\n",
        "  print(f\"CV: {np.mean(scores):.4f} ({np.std(scores):.4f})\")"
      ],
      "metadata": {
        "id": "b0DG8FHxOcYa"
      },
      "execution_count": null,
      "outputs": []
    },
    {
      "cell_type": "code",
      "source": [
        "rf = RandomForestRegressor()\n",
        "cv_score(rf, preprocess)"
      ],
      "metadata": {
        "id": "_Txajmd0RtDV"
      },
      "execution_count": null,
      "outputs": []
    },
    {
      "cell_type": "code",
      "source": [
        "rf = RandomForestRegressor()\n",
        "rf.fit(X_train, y_train)\n"
      ],
      "metadata": {
        "id": "dSTLwx4bXGYo"
      },
      "execution_count": null,
      "outputs": []
    },
    {
      "cell_type": "code",
      "source": [
        "r2_score(y_train, rf.predict(X_train))"
      ],
      "metadata": {
        "id": "D49N3ksoXUuJ"
      },
      "execution_count": null,
      "outputs": []
    },
    {
      "cell_type": "code",
      "source": [
        "cat_features = list(X_train.select_dtypes(include=[\"category\", \"object\"]).columns)\n",
        "print(cat_features)\n",
        "\n",
        "cat = CatBoostRegressor(cat_features=cat_features, verbose=0)\n",
        "\n",
        "cat.fit(X_train, y_train)"
      ],
      "metadata": {
        "id": "khtjxxQIaToB"
      },
      "execution_count": null,
      "outputs": []
    },
    {
      "cell_type": "code",
      "source": [
        "# r2_score(y_train, cat.predict(X_train))\n",
        "r2_score(y_test, cat.predict(X_test))"
      ],
      "metadata": {
        "id": "99g6VMLZaYsI"
      },
      "execution_count": null,
      "outputs": []
    },
    {
      "cell_type": "markdown",
      "metadata": {
        "id": "TgNuiSWsrigv"
      },
      "source": [
        "# 3 Model Training and Evaluation\n",
        "\n",
        "## 3.1 Selecting a Model\n",
        "Selecting a model involves a couple of decisions to make:\n",
        "\n",
        "- Train-test Split: the proportion of data used to train, test and evaluate our data,\n",
        "- Type of ML model used (well-known ones include Decision Trees, Random Forests, Support Vector Machines, Linear/Logistic Regression and Neural Networks).\n",
        "\n",
        "In our case, we will use the Gradient Boosting Regressor provisioned by scikit-learn."
      ]
    },
    {
      "cell_type": "code",
      "execution_count": null,
      "metadata": {
        "id": "YuLS4o_Urigv"
      },
      "outputs": [],
      "source": [
        "from sklearn.model_selection import train_test_split, cross_val_score, KFold\n",
        "from sklearn.ensemble import GradientBoostingRegressor"
      ]
    },
    {
      "cell_type": "code",
      "execution_count": null,
      "metadata": {
        "id": "_V0w1gMPrigv"
      },
      "outputs": [],
      "source": [
        "# Separate features and target variable\n",
        "X = df4.drop('Sales (Domestic Ultimate Total USD)', axis=1)\n",
        "y = df4['Sales (Domestic Ultimate Total USD)']\n",
        "\n",
        "# Split the data into training and test sets\n",
        "X_train, X_test, y_train, y_test = train_test_split(X, y, test_size=0.2, random_state=42)\n",
        "\n",
        "# Initialize the GradientBoostingRegressor\n",
        "model = GradientBoostingRegressor(random_state=42)"
      ]
    },
    {
      "cell_type": "markdown",
      "metadata": {
        "id": "YopYx_gQrigv"
      },
      "source": [
        "### Cross-Validation\n",
        "\n",
        "We will also perform a K-fold Cross Validation. This helps us mitigate the risk of overfitting on a specific set of data, by being able to split the data into K number of folds, test on 1 fold and train for the rest for K number of times."
      ]
    },
    {
      "cell_type": "code",
      "execution_count": null,
      "metadata": {
        "id": "6uA6yh89rigv"
      },
      "outputs": [],
      "source": [
        "# Lists to store results\n",
        "n_folds_values = list(range(4, 16))\n",
        "mean_r2_scores = []\n",
        "std_r2_scores = []\n",
        "\n",
        "# Iterate over different numbers of folds\n",
        "for n_folds in n_folds_values:\n",
        "    # Use k-fold cross-validation with the current number of folds\n",
        "    kf = KFold(n_splits=n_folds, shuffle=True, random_state=42)\n",
        "\n",
        "    # Perform cross-validation and get R-squared scores\n",
        "    cv_scores = cross_val_score(model, X_train, y_train, cv=kf, scoring='r2')\n",
        "\n",
        "    # Append mean and standard deviation of R-squared scores to lists\n",
        "    mean_r2_scores.append(cv_scores.mean())\n",
        "    std_r2_scores.append(cv_scores.std())\n",
        "\n",
        "# Plot the results\n",
        "plt.errorbar(n_folds_values, mean_r2_scores, yerr=std_r2_scores, marker='o', linestyle='-', label='R-squared scores')\n",
        "plt.xlabel('Number of Folds')\n",
        "plt.ylabel('R-squared Score')\n",
        "plt.title('Cross-Validated R-squared Scores for Different Numbers of Folds')\n",
        "plt.legend()\n",
        "plt.show()"
      ]
    },
    {
      "cell_type": "markdown",
      "metadata": {
        "id": "d1lqpUN5rigv"
      },
      "source": [
        "## 3.2 Model Evalutation Metrics\n",
        "\n",
        "There are many ways to evaluate a Machine Learning model:\n",
        "\n",
        "- Residual Mean Squared Error (RMSE), Mean Squared Error (MSE), Mean Average Percentage Error (MAPE) for Regression Tasks;\n",
        "- Confusion Matrix, AUC-ROC Curve for Classification Problems;\n",
        "- and other variants of such metrics.\n",
        "\n",
        "In this problem, MSE will be very big as the sales are very large by nature. We will opt to use the R-Squared Score (used to score how well a regression model fits its data)."
      ]
    },
    {
      "cell_type": "code",
      "execution_count": null,
      "metadata": {
        "id": "It5RVKf5rigw"
      },
      "outputs": [],
      "source": [
        "# Use k-fold cross-validation with 10 folds\n",
        "model_10 = GradientBoostingRegressor(random_state=42)\n",
        "kf = KFold(n_splits=10, shuffle=True, random_state=42)\n",
        "\n",
        "# Perform cross-validation and get R-squared scores\n",
        "cv_scores = cross_val_score(model, X_train, y_train, cv=kf, scoring='r2')\n",
        "\n",
        "# Print the R-squared scores for each fold\n",
        "print(\"Cross-Validation R-squared scores:\", cv_scores)\n",
        "\n",
        "# Print the mean and standard deviation of the R-squared scores\n",
        "print(\"Mean R-squared score:\", cv_scores.mean())\n",
        "print(\"Standard Deviation of R-squared scores:\", cv_scores.std())\n",
        "\n",
        "# Train the model on the entire training set\n",
        "model_10.fit(X_train, y_train)\n",
        "\n",
        "# Evaluate the model on the test set\n",
        "test_score = model_10.score(X_test, y_test)\n",
        "print(\"Test R-squared score:\", test_score)"
      ]
    },
    {
      "cell_type": "markdown",
      "source": [
        "minimal submission -- can go steps further to improve the model, ie creating artificial features, feature engineering, clustering etc."
      ],
      "metadata": {
        "id": "_s9leqOXFXrt"
      }
    },
    {
      "cell_type": "markdown",
      "metadata": {
        "id": "2LgdLXeyrigw"
      },
      "source": [
        "# Saving and testing the model\n",
        "\n",
        "We will export our model into a Hierarchical Data Format 5 File (.h5) for use by others. A general use case will also be covered in the form of a function below."
      ]
    },
    {
      "cell_type": "code",
      "execution_count": null,
      "metadata": {
        "id": "ROzdtdNNrigw"
      },
      "outputs": [],
      "source": [
        "import joblib\n",
        "\n",
        "# Save the base model to an HDF5 file\n",
        "joblib.dump(model_10, 'base_model.h5')"
      ]
    },
    {
      "cell_type": "code",
      "execution_count": null,
      "metadata": {
        "id": "JoUQRXWYrigw"
      },
      "outputs": [],
      "source": [
        "def test_model(data):\n",
        "    # we assume the data is cleaned\n",
        "    # To load the model in the future\n",
        "    loaded_model = joblib.load('./base_model.h5')\n",
        "    predictions = loaded_model.predict(data)\n",
        "\n",
        "    return predictions\n",
        "\n",
        "# Extract the last row of the test set\n",
        "last_row = X_test.iloc[[1]]\n",
        "\n",
        "# Make predictions on the last row\n",
        "print(test_model(last_row))"
      ]
    },
    {
      "cell_type": "markdown",
      "metadata": {
        "id": "liB3a-Ikrigw"
      },
      "source": [
        "Feel free to explore the functions as written above and play around with more models! You may be able to achieve a higher accuracy.\n",
        "\n",
        "Happy learning and coding!"
      ]
    },
    {
      "cell_type": "code",
      "execution_count": null,
      "metadata": {
        "id": "yb1O3Yczrigx"
      },
      "outputs": [],
      "source": []
    }
  ],
  "metadata": {
    "kernelspec": {
      "display_name": "env",
      "language": "python",
      "name": "python3"
    },
    "language_info": {
      "codemirror_mode": {
        "name": "ipython",
        "version": 3
      },
      "file_extension": ".py",
      "mimetype": "text/x-python",
      "name": "python",
      "nbconvert_exporter": "python",
      "pygments_lexer": "ipython3",
      "version": "3.9.16"
    },
    "colab": {
      "provenance": [],
      "collapsed_sections": [
        "Baq-6cIkrigs"
      ],
      "include_colab_link": true
    }
  },
  "nbformat": 4,
  "nbformat_minor": 0
}